{
 "cells": [
  {
   "cell_type": "markdown",
   "metadata": {},
   "source": [
    "## Loops\n",
    "\n",
    "Now that we understand lists and dictionaries, let's put them to use.  Often, if you have a list of items, you may want to perform an action on every item in the list.  This is where loops can help.  We will talk about two types of loops: **for** loops and **while** loops."
   ]
  },
  {
   "cell_type": "markdown",
   "metadata": {},
   "source": [
    "### For loops\n",
    "\n",
    "For loops perform actions on every item in an iterable.  They have the following general structure:\n",
    "\n",
    ">  for *item* in *iterable*:\n",
    ">  \n",
    ">      do something to that item\n",
    ">      do something else to that item\n",
    ">      do a third thing\n",
    ">  \n",
    ">  *After* completing the loop, do this.\n",
    "      \n",
    "This is the first time we've encountered indentation.  Indentation is crucial for Python syntax, and in fact not using it correctly will throw errors.  Here, we've defined a statement, the *for* loop.  At the end of this statement is a required colon.  This defines the end of the statement.  Everything that belongs within this loop, that is, every action that should be performed on each iteration of the loop then goes on the following lines **in an indented block**.  This defines what is within the scope of this loop.  Lines following this block that are not indented will not be run on each loop iteration and will only be run after the loop has completed all iterations.\n",
    "\n",
    "Let's put this into practice now by simply printing each fruit in our list."
   ]
  },
  {
   "cell_type": "code",
   "execution_count": 1,
   "metadata": {},
   "outputs": [
    {
     "name": "stdout",
     "output_type": "stream",
     "text": [
      "apple\n",
      "orange\n",
      "grape\n",
      "banana\n"
     ]
    }
   ],
   "source": [
    "#Define our favorite list\n",
    "fruits = ['apple', 'orange', 'grape', 'banana']\n",
    "\n",
    "#Print each fruit in the list\n",
    "for fruit in fruits:\n",
    "    print(fruit)"
   ]
  },
  {
   "cell_type": "code",
   "execution_count": 2,
   "metadata": {},
   "outputs": [
    {
     "name": "stdout",
     "output_type": "stream",
     "text": [
      "I like to eat apples!!\n",
      "I like to eat oranges!!\n",
      "I like to eat grapes!!\n",
      "I like to eat bananas!!\n"
     ]
    }
   ],
   "source": [
    "#We can also perform actions on each item in each iterations.\n",
    "#For example, let's make them plural and then tell everyone how much we like them.\n",
    "fruits = ['apple', 'orange', 'grape', 'banana']\n",
    "\n",
    "for fruit in fruits:\n",
    "    #Make it plural. Each 'fruit' is simply a string, so we can add the string 's'\n",
    "    pluralfruit = fruit + 's'\n",
    "    print('I like to eat ' + pluralfruit + '!!')"
   ]
  },
  {
   "cell_type": "code",
   "execution_count": 3,
   "metadata": {},
   "outputs": [
    {
     "name": "stdout",
     "output_type": "stream",
     "text": [
      "['apples', 'oranges', 'grapes', 'bananas']\n"
     ]
    }
   ],
   "source": [
    "#Add each modified item to a new list\n",
    "fruits = ['apple', 'orange', 'grape', 'banana']\n",
    "\n",
    "#We are going to define a new list called pluralfruits.  \n",
    "#Right now, it's empty, but we still need to define it so that when we try to add things to it, it's there.\n",
    "pluralfruits = [] #empty list\n",
    "\n",
    "for fruit in fruits:\n",
    "    pluralfruit = fruit + 's' #make it plural\n",
    "    pluralfruits.append(pluralfruit) #add it to our new list\n",
    "    \n",
    "#This is now outside of the indentation block and therefore will only be run after the loop has completed.\n",
    "print(pluralfruits)\n",
    "\n",
    "#What would happen if we put the print statement inside the indentation block?"
   ]
  },
  {
   "cell_type": "markdown",
   "metadata": {},
   "source": [
    "### Conditional statements\n",
    "\n",
    "So far, we've treated every iteration of the loop equally.  That is, we've performed our actions on every item.  But what if we want to evaluate the item, then based on that evaluation, decide what to do next?  This is where conditional statements come in.  The most common conditional statement is an **if** statement.  It's exactly what it sounds like.  You are asking *if* the item meets some condition.  If statements are often paired with **else** statements.  *Else* statements define what to do in the case the *if* condition is not met.\n",
    "\n",
    "Loops can therefore have this common structure:\n",
    "\n",
    "    for *item* in *iterable*:\n",
    "        if condition is met:\n",
    "            do this thing\n",
    "        else:\n",
    "            do this other thing\n",
    "            \n",
    "Multiple conditions can be presented in sequence.  This is commonly done by combining *else* and *if* statements into a single statement called *elif* (else-if). This will now look like this:\n",
    "\n",
    "    for *item* in *iterable*:\n",
    "        if condition1 is met:\n",
    "            do action1\n",
    "        elif condition2 is met:\n",
    "            do action2\n",
    "        else:\n",
    "            do action3\n",
    "            \n",
    "            \n",
    "Here, condition1 is first evaluated. If it is satisfied, action1 is performed and that's it.  We move on to the next iteration of the loop.  If it is not satisfied, we slip to the *elif* statement (remember it means else-if).  This is asking, given that condition1 is not met, is condition2 met?  If so, action2 is performed, and we move to the next iteration.  If neither condition1 nor condition2 are met, we slip to the *else* statement.  Action3 is performed and the iteration continues.\n",
    "\n",
    "> **Important note**:  Conditional statements of equality are performed using the '==' operator.  '==' is asking if two values are equal.  Importantly, this is not '='.  Remember that '=' is used to assign variables.  The inverse of '==' is '!='.  '==' evaluates to True if the two items are equal.  \"!=' evaluates to True if the two items are not equal."
   ]
  },
  {
   "cell_type": "code",
   "execution_count": 4,
   "metadata": {},
   "outputs": [
    {
     "name": "stdout",
     "output_type": "stream",
     "text": [
      "False\n",
      "True\n"
     ]
    }
   ],
   "source": [
    "a = 2\n",
    "b = 3\n",
    "\n",
    "print(a == b)\n",
    "print(a != b)"
   ]
  },
  {
   "cell_type": "code",
   "execution_count": 5,
   "metadata": {},
   "outputs": [
    {
     "name": "stdout",
     "output_type": "stream",
     "text": [
      "I love apples!!\n",
      "I love oranges!!\n",
      "I love grapes!!\n",
      "I hate bananas!!\n"
     ]
    }
   ],
   "source": [
    "fruits = ['apples', 'oranges', 'grapes', 'bananas']\n",
    "\n",
    "#Bananas are disgusting and we hate them\n",
    "for fruit in fruits:\n",
    "    if fruit == 'bananas':\n",
    "        print('I hate ' + fruit + '!!')\n",
    "    else:\n",
    "        print('I love ' + fruit + '!!')"
   ]
  },
  {
   "cell_type": "markdown",
   "metadata": {},
   "source": [
    "Conditional statements can also be chained together with <font color = 'red'>and</font> and <font color = 'red'>or</font>.  They work exactly how you would expect them to, provided you speak English."
   ]
  },
  {
   "cell_type": "code",
   "execution_count": 6,
   "metadata": {},
   "outputs": [
    {
     "name": "stdout",
     "output_type": "stream",
     "text": [
      "I love apples!!\n",
      "I love oranges!!\n",
      "I love grapes!!\n",
      "I hate bananas!!\n",
      "Hey, bozo, zucchinis are not fruits.\n"
     ]
    }
   ],
   "source": [
    "fruits = ['apples', 'oranges', 'grapes', 'bananas', 'zucchinis']\n",
    "\n",
    "#Bananas are still disgusting, but we also have a nonfruit\n",
    "for fruit in fruits:\n",
    "    #Is this an apple, orange or grape?\n",
    "    if fruit == 'apples' or fruit == 'oranges' or fruit == 'grapes':\n",
    "        print('I love ' + fruit + '!!')\n",
    "    #If not, is it a banana?\n",
    "    elif fruit == 'bananas':\n",
    "        print('I hate ' + fruit + '!!')\n",
    "    #If neither of the two above conditions are met\n",
    "    else:\n",
    "        print('Hey, bozo, ' + fruit + ' are not fruits.')"
   ]
  },
  {
   "cell_type": "code",
   "execution_count": 7,
   "metadata": {},
   "outputs": [
    {
     "name": "stdout",
     "output_type": "stream",
     "text": [
      "I love apples!!\n",
      "I love oranges!!\n",
      "I love grapes!!\n",
      "I hate bananas!!\n",
      "Hey, bozo, zucchinis are not fruits.\n"
     ]
    }
   ],
   "source": [
    "#Same question but organized in a slightly different way\n",
    "\n",
    "deliciousfruits = ['apples', 'oranges', 'grapes']\n",
    "disgustingfruits = ['bananas']\n",
    "peanutbutterpresent = False\n",
    "\n",
    "fruits = ['apples', 'oranges', 'grapes', 'bananas', 'zucchinis', 45]\n",
    "\n",
    "for fruit in fruits:\n",
    "    if type(fruit) == str:\n",
    "        if fruit in deliciousfruits:\n",
    "            print('I love ' + fruit + '!!')\n",
    "        elif fruit in disgustingfruits and not peanutbutterpresent:\n",
    "            print('I hate ' + fruit + '!!')\n",
    "        elif fruit in disgustingfruits and peanutbutterpresent:\n",
    "            print('OK, I\\ll have bananas this one time.')\n",
    "        else:\n",
    "            print('Hey, bozo, ' + fruit + ' are not fruits.')"
   ]
  },
  {
   "cell_type": "markdown",
   "metadata": {},
   "source": [
    "### Looping through dictionaries\n",
    "\n",
    "We can loop through any iterable.  So far, we've looped through lists, but we can also loop through other iterables like dictionaries and even strings!"
   ]
  },
  {
   "cell_type": "code",
   "execution_count": 8,
   "metadata": {},
   "outputs": [
    {
     "name": "stdout",
     "output_type": "stream",
     "text": [
      "['name', 'floor', 'fav_things', 'has_beard']\n",
      "['Srinivas', 9, ['uracil', '2primehydroxyls', 'introns'], True]\n"
     ]
    }
   ],
   "source": [
    "#Our dictionary\n",
    "instructor = {'name': 'Srinivas', 'floor': 9, 'fav_things': ['uracil', '2primehydroxyls', 'introns'], 'has_beard': True}\n",
    "\n",
    "#Get a list of all keys in the dictionary\n",
    "#Equivalent to list(instructor.keys())\n",
    "instructorkeys = [] #empty list\n",
    "for k in instructor:\n",
    "    instructorkeys.append(k)\n",
    "    \n",
    "#Get a list of all values in the dictionary\n",
    "#Equivalent to list(instructor.values())\n",
    "instructorvalues = [] #empty list\n",
    "for k in instructor:\n",
    "    instructorvalue = instructor.get(k)\n",
    "    instructorvalues.append(instructorvalue)\n",
    "    \n",
    "print(instructorkeys)\n",
    "print(instructorvalues)"
   ]
  },
  {
   "cell_type": "code",
   "execution_count": 9,
   "metadata": {},
   "outputs": [
    {
     "name": "stdout",
     "output_type": "stream",
     "text": [
      "O\n",
      "H\n",
      " \n",
      "W\n",
      "H\n",
      "A\n",
      "T\n",
      " \n",
      "A\n",
      " \n",
      "S\n",
      "T\n",
      "R\n",
      "I\n",
      "N\n",
      "G\n",
      " \n",
      "T\n",
      "H\n",
      "I\n",
      "S\n",
      " \n",
      "I\n",
      "S\n",
      "!\n"
     ]
    }
   ],
   "source": [
    "#Loop through a string\n",
    "\n",
    "string = 'OH WHAT A STRING THIS IS!'\n",
    "\n",
    "for x in string:\n",
    "    print(x)"
   ]
  },
  {
   "cell_type": "markdown",
   "metadata": {},
   "source": [
    "### Keeping track of indicies when looping\n",
    "\n",
    "Occasionally, you might like to keep track of the index of an item as you are going through an iterable.  This can be done with the **enumerate()** function.  enumerate() returns a tuple of the form (index, item) during every iteration."
   ]
  },
  {
   "cell_type": "code",
   "execution_count": 6,
   "metadata": {},
   "outputs": [
    {
     "name": "stdout",
     "output_type": "stream",
     "text": [
      "0 apples\n",
      "1 oranges\n",
      "2 grapes\n",
      "3 bananas\n",
      "4 zucchinis\n",
      "apples\n",
      "grapes\n",
      "zucchinis\n"
     ]
    }
   ],
   "source": [
    "fruits = ['apples', 'oranges', 'grapes', 'bananas', 'zucchinis']\n",
    "\n",
    "for index, fruit in enumerate(fruits):\n",
    "    print(index, fruit)\n",
    "    \n",
    "    \n",
    "#Get every other fruit, starting with the first one\n",
    "for index, fruit in enumerate(fruits):\n",
    "    if index %2 == 0:\n",
    "        print(fruit)"
   ]
  },
  {
   "cell_type": "markdown",
   "metadata": {},
   "source": [
    "### Nested loops.\n",
    "\n",
    "Loops can also be nested, allowing simulatneous actions on multiple iterables.  For example:\n",
    "\n",
    "    for item in iterable1:\n",
    "        for item2 in iterable2:\n",
    "            do something\n",
    "            \n",
    "Here, we will start with the first item in iterable1. Then, for every item in iterable2, we will do something.  Then we will move to the second item in iterable1.  Then, for every item in iterable2, we will do something.  And so on.\n",
    "\n",
    "If it helps, the number of times we will \"do something\" here is the number of items in iterable1 times the number of items in iterable2."
   ]
  },
  {
   "cell_type": "code",
   "execution_count": 10,
   "metadata": {},
   "outputs": [
    {
     "name": "stdout",
     "output_type": "stream",
     "text": [
      "I love big apples!!\n",
      "I love juicy apples!!\n",
      "I love delicious apples!!\n",
      "I love big oranges!!\n",
      "I love juicy oranges!!\n",
      "I love delicious oranges!!\n",
      "I love big grapes!!\n",
      "I love juicy grapes!!\n",
      "I love delicious grapes!!\n",
      "I love big bananas!!\n",
      "I love juicy bananas!!\n",
      "I love delicious bananas!!\n"
     ]
    }
   ],
   "source": [
    "adjectives = ['big', 'juicy', 'delicious']\n",
    "fruits = ['apples', 'oranges', 'grapes', 'bananas']\n",
    "\n",
    "#Bananas are OK again\n",
    "for fruit in fruits:\n",
    "    for adj in adjectives:\n",
    "        print('I love ' + adj + ' ' + fruit + '!!')"
   ]
  },
  {
   "cell_type": "markdown",
   "metadata": {},
   "source": [
    "### Control statements\n",
    "\n",
    "Python has the loop control statements <font color = 'red'>continue</font>, <font color = 'red'>break</font>, and <font color = 'red'>pass</font>.\n",
    "\n",
    "- **continue** statements tell Python to proceed with the next iteration of the loop\n",
    "- **break** statements stop iteration of the loop and exit the loop\n",
    "- **pass** statements are placeholders and don't cause anything to happen"
   ]
  },
  {
   "cell_type": "code",
   "execution_count": 11,
   "metadata": {},
   "outputs": [
    {
     "name": "stdout",
     "output_type": "stream",
     "text": [
      "I love grapes!!\n"
     ]
    }
   ],
   "source": [
    "fruits = ['apples', 'oranges', 'grapes', 'bananas']\n",
    "\n",
    "#Grapes are really good\n",
    "for fruit in fruits:\n",
    "    if fruit != 'grapes': #if this fruit is not grapes, continue with the next iteration\n",
    "        continue\n",
    "    else:\n",
    "        print('I love ' + fruit + '!!')"
   ]
  },
  {
   "cell_type": "code",
   "execution_count": 12,
   "metadata": {},
   "outputs": [
    {
     "name": "stdout",
     "output_type": "stream",
     "text": [
      "apples\n",
      "oranges\n"
     ]
    }
   ],
   "source": [
    "fruits = ['apples', 'oranges', 'grapes', 'bananas']\n",
    "\n",
    "for fruit in fruits:\n",
    "    if fruit == 'grapes':\n",
    "        break\n",
    "    else:\n",
    "        print(fruit)"
   ]
  },
  {
   "cell_type": "markdown",
   "metadata": {},
   "source": [
    "### While loops\n",
    "\n",
    "While loops are similar to for loops, except that they continue to iterate *while* a condition is met.\n",
    "\n",
    "    while conditionismet:\n",
    "        perform function\n",
    "       \n",
    "This loop will continue to run until the condition is no longer met."
   ]
  },
  {
   "cell_type": "code",
   "execution_count": 14,
   "metadata": {},
   "outputs": [
    {
     "name": "stdout",
     "output_type": "stream",
     "text": [
      "i is equal to 1\n",
      "i is equal to 2\n",
      "i is equal to 3\n",
      "i is equal to 4\n",
      "i is equal to 5\n",
      "i is equal to 6\n",
      "i is equal to 7\n",
      "i is equal to 8\n",
      "i is equal to 9\n",
      "i is equal to 10\n",
      "Whoops! i is no longer less than 10.\n"
     ]
    }
   ],
   "source": [
    "i = 0\n",
    "\n",
    "while i < 10: #run this loop until i is greater than or equal to 10\n",
    "    i += 1 #add 1 to i, move on to the next iteration of the loop.\n",
    "    print('i is equal to ' + str(i)) #i must be formatted to str.  You cannot add strings and integers together.\n",
    "    \n",
    "#The condition is no longer satisfied, so we move on past the loop.\n",
    "print('Whoops! i is no longer less than 10.')"
   ]
  },
  {
   "cell_type": "markdown",
   "metadata": {},
   "source": [
    "> **Importantly**, it is possible to create while loops in which the condition is *always* met.  This means the loop will run forever and is called an *infinite loop*.  These can obviously cause problems.  The code will not progress beyond the infinite loop."
   ]
  },
  {
   "cell_type": "code",
   "execution_count": null,
   "metadata": {},
   "outputs": [],
   "source": [
    "#PRESS INTERRUPT KERNEL AFTER RUNNING THIS BLOCK (IT'S THE ONE THAT LOOKS LIKE A SQUARE.)\n",
    "\n",
    "i = 1\n",
    "\n",
    "while i > 0: #this will always be true\n",
    "    print('i is equal to ' + str(i)) #i must be formatted to str.  You cannot add strings and integers together.\n",
    "    i += 1\n",
    "    \n",
    "#This line will never run.\n",
    "print('DNA is more interesting than RNA.')"
   ]
  },
  {
   "cell_type": "markdown",
   "metadata": {},
   "source": [
    "## List comprehensions\n",
    "\n",
    "List comprehension are concise ways to create lists or perform actions on every item contained within a list.  They can be approximated with loops (particularly for loops), but are quick, concise, and well...cool.  The syntax takes a bit of getting used to, but they are worth the effort."
   ]
  },
  {
   "cell_type": "code",
   "execution_count": 16,
   "metadata": {},
   "outputs": [
    {
     "name": "stdout",
     "output_type": "stream",
     "text": [
      "['apples', 'oranges', 'grapes', 'bananas']\n",
      "['apples', 'oranges', 'grapes', 'bananas']\n"
     ]
    }
   ],
   "source": [
    "fruits = ['apple', 'orange', 'grape', 'banana']\n",
    "\n",
    "#Make this list plural using a for loop\n",
    "pluralfruits = []\n",
    "\n",
    "for fruit in fruits:\n",
    "    pluralfruit = fruit + 's'\n",
    "    pluralfruits.append(pluralfruit)\n",
    "    \n",
    "print(pluralfruits)\n",
    "\n",
    "#OK, that's cool, but this is cooler with a list comprehension\n",
    "\n",
    "pluralfruits_lc = [fruit + 's' for fruit in fruits] #the syntax essentially reads like an English sentence\n",
    "\n",
    "print(pluralfruits_lc)\n"
   ]
  },
  {
   "cell_type": "code",
   "execution_count": 17,
   "metadata": {},
   "outputs": [
    {
     "name": "stdout",
     "output_type": "stream",
     "text": [
      "['bananas']\n",
      "['bananas']\n"
     ]
    }
   ],
   "source": [
    "#Let's do another one!  This time with a conditional statement!\n",
    "fruits = ['apple', 'orange', 'grape', 'banana']\n",
    "\n",
    "#Only make the fruit plural if it starts with 'b'\n",
    "pluralfruits = []\n",
    "\n",
    "for fruit in fruits:\n",
    "    if fruit.startswith('b'):\n",
    "        pluralfruit = fruit + 's'\n",
    "        pluralfruits.append(pluralfruit)\n",
    "    \n",
    "print(pluralfruits)\n",
    "\n",
    "#Booooring.  Use a list comprehension.\n",
    "pluralfruits_lc = [fruit + 's' for fruit in fruits if fruit.startswith('b')]\n",
    "\n",
    "print(pluralfruits_lc)\n"
   ]
  },
  {
   "cell_type": "code",
   "execution_count": 19,
   "metadata": {},
   "outputs": [
    {
     "name": "stdout",
     "output_type": "stream",
     "text": [
      "['apple', 'orange', 'grape', 'bananas']\n",
      "['apple', 'apple', 'apple', 'orange', 'orange', 'orange', 'grape', 'grape', 'grape', 'bananasbig', 'bananasjuicy', 'bananasdelicious']\n"
     ]
    }
   ],
   "source": [
    "#One more time, this time with and if statement and an else statement\n",
    "\n",
    "fruits = ['apple', 'orange', 'grape', 'banana']\n",
    "adj = ['big', 'juicy', 'delicious']\n",
    "\n",
    "#Only make the fruit plural if it starts with 'b', otherwise keep them in their singular form\n",
    "pluralfruits = []\n",
    "\n",
    "for fruit in fruits:\n",
    "    if fruit.startswith('b'):\n",
    "        pluralfruit = fruit + 's'\n",
    "    else:\n",
    "        pluralfruit = fruit\n",
    "    pluralfruits.append(pluralfruit)\n",
    "    \n",
    "print(pluralfruits)\n",
    "\n",
    "#With a list comprehension.\n",
    "pluralfruits_lc = [fruit + 's' + a if fruit.startswith('b') else fruit for fruit in fruits for a in adj]\n",
    "\n",
    "print(pluralfruits_lc)"
   ]
  },
  {
   "cell_type": "markdown",
   "metadata": {},
   "source": [
    "\n",
    "## <font color = 'red'> Exercises </font>\n",
    "\n",
    "There are four exercises below, each with an empty code block after them.  Fill the code blocks with code to answer each exercise."
   ]
  },
  {
   "cell_type": "markdown",
   "metadata": {},
   "source": [
    "#### Exercise 1\n",
    "\n",
    "Write a loop to create a list that contains all of the even integers between 1 and 20.\n",
    "\n",
    "Here's some pseudocode to help you out.\n",
    "\n",
    "- Define an empty list.\n",
    "- Using a while loop and an if statement, add integers to the list.\n",
    "- Don't forget about the % operator!  It could be useful!\n",
    "\n",
    "> Note: do not use the range() function for this."
   ]
  },
  {
   "cell_type": "code",
   "execution_count": null,
   "metadata": {
    "collapsed": true
   },
   "outputs": [],
   "source": [
    "##PUT YOUR CODE HERE##\n",
    "\n",
    "#the goal is to make the list [2, 4, 6, 8, 10, 12, 14, 16, 18, 20]"
   ]
  },
  {
   "cell_type": "markdown",
   "metadata": {},
   "source": [
    "#### Exercise 2\n",
    "\n",
    "Write a for loop that creates a dictionary where the keys are the integers between 1 and 10 and the values are the squares of the keys.\n",
    "\n",
    "Here's some pseudocode.\n",
    "\n",
    "- Define an empty dictionary.\n",
    "- Create a list of the integers between 1 and 10 using range(1, 11)\n",
    "- Write a for loop that iterates through the list of integers, add them as keys and their squares as values"
   ]
  },
  {
   "cell_type": "code",
   "execution_count": null,
   "metadata": {
    "collapsed": true
   },
   "outputs": [],
   "source": [
    "ints = range(1, 11)\n",
    "##PUT YOUR CODE HERE##\n",
    "\n",
    "\n",
    "#goal, although the keys may be in any order = {1 : 1, 2 : 4, 3 : 9, 4 : 16, 5 : 25, 6 : 36, 7 : 49, 8 : 64, 9 : 81, 10 : 100} "
   ]
  },
  {
   "cell_type": "markdown",
   "metadata": {},
   "source": [
    "#### Exercise 3\n",
    "\n",
    "This one is more advanced.\n",
    "\n",
    "Write a loop that produces a list of all the prime integers between 0 and 100.\n",
    "\n",
    "Here's some pseduocode.\n",
    "\n",
    "- Make a list of all the integers between 1 and 100.\n",
    "- Iterate through the list, asking if dividing this integer by any integer in the list smaller than it returns a remainder of 0. You might need a nested list.\n",
    "- If no, it's prime."
   ]
  },
  {
   "cell_type": "code",
   "execution_count": null,
   "metadata": {
    "collapsed": true
   },
   "outputs": [],
   "source": [
    "##PUT YOUR CODE HERE##\n"
   ]
  },
  {
   "cell_type": "markdown",
   "metadata": {},
   "source": [
    "**Exercise 4**\n",
    "\n",
    "Kmers are short strings of nucleic acid sequence of length k.  For example, the sequence ACUGAUCAUG contains the 6nt-long kmers (or 6mers) ACUGAU, CUGAUC, UGAUCA, GAUCAU, and AUCAUG.  Since many RNA-binding proteins recognize sequences of about this length, this represents the list of possible binding sites for RBPs within this sequence.  You might imagine, then, that being able to take a sequence and count the abundance of all kmers within could be a useful thing to do.  So let's do it.\n",
    "\n",
    "Write a chunk of code that stores the number of time each 6mer is observed in the ~1.5 kb sequence below:\n",
    "\n",
    "TGAGTTCCAGGACAGCCAAGAGTCAGAACTAAATAAGAGACCCTGTCTCACAAAAATGCAAACAAGAGATTCAACTTCAAATCATACACTAAGTTCATCCGCAAATCAACTTACTTACAACTGATAAAAATACACTGCTCTAGAATTCAGGACACAGGCATTCTCAATTTGCTACCAAGATGCTGCTTAACTGCAGACACATCATTTCTCTTCCAGAAAATACAGTCAGCTTGACATAAAAGTAGTCTTTTTTTTTTAAGATTAATTTATTATTATATCTAAGTATACTGTTGCTGTCTTCAGACACACCAGAAGAGGGCACCAGATCCCATTATAGATGGTTGTGAGCCACCATGTGGTTGCTGGGAGTTGAACTCAGGACCTCTGGAAGAGCAGTCAGGGCTCTTAACCGCTGAGCTTTCAAGTTCTAGCCTGTCTTATTAAATGTAATAATTAGTTGTAGGATCCTTTAACAAATTATTTGAAACACTATCAGGCATAGTGTTCCCTGTAAATAAAGGGTAAAACTACTGAGACTAATGTTCTCATAAGTAAGTTAAAACAAAGCAAAACACAGTTGTATTAAAAGCATTTTCACTTAAGTTTAAAAAGTAACAAATTTTTAATATGGAAGATTTTTAGAAGAGCATATATATATATATATATATATATATATATATATATATATATATATATATTCTGTTTTGACAGCAGGTCAGGTTCTATTCTAAGAAACTAGATAGGCAGAGATCCGCAGAGAGGTTGGCTCACTGACTGTTGGGTGTTGGGGATGTAATTAACTGGTAGAACACTTGCCCAGTGCGCACAGAGCCCTGGATTTAATCTGCAGCACTCAAAACTAGGGCAGAGATGTGGTAGTCAACCCACTTTCCTGGCACCCACACAGTGGCTCCAACCATCCCTAACCCCAGTTCCAGGGGACTCCACACCCTCCTGTGGCCTCAAAGCACTGCATGCATGTGGTGTACATTCTGGCAGACAAGACACTTCCATATTAAAAAGTAAGATAATTTCTTAAACCCAAGCACTACCTGATGCGAGGGCGTCTCTGTGGACTCGCTGCTGCTGCTGCTACTGCTGCTGCTGCCGCCGCTGCACATCTCCCTCAGCTCACACAGACCCAGGCTCGGATCAAAGGACAGGGACCTGCGGCGCTTCCGGTGCCGCTCCCCAGGTAGCTCATCTGTGTTCTCTTCTATAGATTAAAGGACATGGGGTTAAAACTCCCTGTACTGGGACTGATTTGAGATTGAAATATCTTCAGCACCTATTTGCAACAAAATTTAATTTCAATTATATTAAACAGAGAAGTGAACCATTAATGTTTCAAAAGTCAGCAGTGTTTCATTGGATCTGTTCAGCTACACATAAGCTCTACTTCTAAGCTTGCAACCTTCTTTGTGGACGTTACCTCCACAAGTTACTCATTTAATCCTCCTAGTGCTTTTACTGATTCAACAGTACACGATTTCCCCAT\n",
    "\n",
    "Here's some pseudocode.\n",
    "\n",
    "- For each position, i, in the sequence, a kmer is defined as the string from position i to position i + 6\n",
    "- Loop through all possible i values, deriving the kmer that corresponds to that i value (perhaps by slicing the sequence)\n",
    "- Store the occurence of that kmer in a dictionary of the form {kmer : number of observations}"
   ]
  },
  {
   "cell_type": "code",
   "execution_count": null,
   "metadata": {
    "collapsed": true
   },
   "outputs": [],
   "source": [
    "##PUT YOUR CODE HERE##\n"
   ]
  }
 ],
 "metadata": {
  "anaconda-cloud": {},
  "kernelspec": {
   "display_name": "Python 3",
   "language": "python",
   "name": "python3"
  },
  "language_info": {
   "codemirror_mode": {
    "name": "ipython",
    "version": 3
   },
   "file_extension": ".py",
   "mimetype": "text/x-python",
   "name": "python",
   "nbconvert_exporter": "python",
   "pygments_lexer": "ipython3",
   "version": "3.6.2"
  }
 },
 "nbformat": 4,
 "nbformat_minor": 2
}
