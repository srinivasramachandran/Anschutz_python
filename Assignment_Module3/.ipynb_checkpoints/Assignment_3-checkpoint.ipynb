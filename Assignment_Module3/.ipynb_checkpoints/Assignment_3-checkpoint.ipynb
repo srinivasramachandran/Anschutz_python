{
 "cells": [
  {
   "cell_type": "markdown",
   "metadata": {},
   "source": [
    "\n",
    "## <font color = 'red'> Assignment 3 </font>\n",
    "\n",
    "There are four exercises below, each with an empty code block after them.  Fill the code blocks with code to answer each exercise."
   ]
  },
  {
   "cell_type": "markdown",
   "metadata": {},
   "source": [
    "#### Exercise 1\n",
    "\n",
    "Write a loop to create a list that contains all of the even integers between 1 and 20.\n",
    "\n",
    "Here's some pseudocode to help you out.\n",
    "\n",
    "- Define an empty list.\n",
    "- Using a while loop and an if statement, add integers to the list.\n",
    "- Don't forget about the % operator!  It could be useful!\n",
    "\n",
    "> Note: do not use the range() function for this."
   ]
  },
  {
   "cell_type": "code",
   "execution_count": null,
   "metadata": {
    "collapsed": true
   },
   "outputs": [],
   "source": [
    "##PUT YOUR CODE HERE##\n",
    "\n",
    "#the goal is to make the list [2, 4, 6, 8, 10, 12, 14, 16, 18, 20]"
   ]
  },
  {
   "cell_type": "markdown",
   "metadata": {},
   "source": [
    "#### Exercise 2\n",
    "\n",
    "Write a for loop that creates a dictionary where the keys are the integers between 1 and 10 and the values are the squares of the keys.\n",
    "\n",
    "Here's some pseudocode.\n",
    "\n",
    "- Define an empty dictionary.\n",
    "- Create a list of the integers between 1 and 10 using range(1, 11)\n",
    "- Write a for loop that iterates through the list of integers, add them as keys and their squares as values"
   ]
  },
  {
   "cell_type": "code",
   "execution_count": null,
   "metadata": {
    "collapsed": true
   },
   "outputs": [],
   "source": [
    "ints = range(1, 11)\n",
    "##PUT YOUR CODE HERE##\n",
    "\n",
    "\n",
    "#goal, although the keys may be in any order = {1 : 1, 2 : 4, 3 : 9, 4 : 16, 5 : 25, 6 : 36, 7 : 49, 8 : 64, 9 : 81, 10 : 100} "
   ]
  },
  {
   "cell_type": "markdown",
   "metadata": {},
   "source": [
    "#### Exercise 3\n",
    "\n",
    "This one is more advanced.\n",
    "\n",
    "Write a loop that produces a list of all the prime integers between 0 and 100.\n",
    "\n",
    "Here's some pseduocode.\n",
    "\n",
    "- Make a list of all the integers between 1 and 100.\n",
    "- Iterate through the list, asking if dividing this integer by any integer in the list smaller than it returns a remainder of 0. You might need a nested list.\n",
    "- If no, it's prime."
   ]
  },
  {
   "cell_type": "code",
   "execution_count": null,
   "metadata": {
    "collapsed": true
   },
   "outputs": [],
   "source": [
    "##PUT YOUR CODE HERE##\n"
   ]
  },
  {
   "cell_type": "markdown",
   "metadata": {},
   "source": [
    "**Exercise 4**\n",
    "\n",
    "Kmers are short strings of nucleic acid sequence of length k.  For example, the sequence ACUGAUCAUG contains the 6nt-long kmers (or 6mers) ACUGAU, CUGAUC, UGAUCA, GAUCAU, and AUCAUG.  Since many RNA-binding proteins recognize sequences of about this length, this represents the list of possible binding sites for RBPs within this sequence.  You might imagine, then, that being able to take a sequence and count the abundance of all kmers within could be a useful thing to do.  So let's do it.\n",
    "\n",
    "Write a chunk of code that stores the number of time each 6mer is observed in the ~1.5 kb sequence below:\n",
    "\n",
    "TGAGTTCCAGGACAGCCAAGAGTCAGAACTAAATAAGAGACCCTGTCTCACAAAAATGCAAACAAGAGATTCAACTTCAAATCATACACTAAGTTCATCCGCAAATCAACTTACTTACAACTGATAAAAATACACTGCTCTAGAATTCAGGACACAGGCATTCTCAATTTGCTACCAAGATGCTGCTTAACTGCAGACACATCATTTCTCTTCCAGAAAATACAGTCAGCTTGACATAAAAGTAGTCTTTTTTTTTTAAGATTAATTTATTATTATATCTAAGTATACTGTTGCTGTCTTCAGACACACCAGAAGAGGGCACCAGATCCCATTATAGATGGTTGTGAGCCACCATGTGGTTGCTGGGAGTTGAACTCAGGACCTCTGGAAGAGCAGTCAGGGCTCTTAACCGCTGAGCTTTCAAGTTCTAGCCTGTCTTATTAAATGTAATAATTAGTTGTAGGATCCTTTAACAAATTATTTGAAACACTATCAGGCATAGTGTTCCCTGTAAATAAAGGGTAAAACTACTGAGACTAATGTTCTCATAAGTAAGTTAAAACAAAGCAAAACACAGTTGTATTAAAAGCATTTTCACTTAAGTTTAAAAAGTAACAAATTTTTAATATGGAAGATTTTTAGAAGAGCATATATATATATATATATATATATATATATATATATATATATATATATATTCTGTTTTGACAGCAGGTCAGGTTCTATTCTAAGAAACTAGATAGGCAGAGATCCGCAGAGAGGTTGGCTCACTGACTGTTGGGTGTTGGGGATGTAATTAACTGGTAGAACACTTGCCCAGTGCGCACAGAGCCCTGGATTTAATCTGCAGCACTCAAAACTAGGGCAGAGATGTGGTAGTCAACCCACTTTCCTGGCACCCACACAGTGGCTCCAACCATCCCTAACCCCAGTTCCAGGGGACTCCACACCCTCCTGTGGCCTCAAAGCACTGCATGCATGTGGTGTACATTCTGGCAGACAAGACACTTCCATATTAAAAAGTAAGATAATTTCTTAAACCCAAGCACTACCTGATGCGAGGGCGTCTCTGTGGACTCGCTGCTGCTGCTGCTACTGCTGCTGCTGCCGCCGCTGCACATCTCCCTCAGCTCACACAGACCCAGGCTCGGATCAAAGGACAGGGACCTGCGGCGCTTCCGGTGCCGCTCCCCAGGTAGCTCATCTGTGTTCTCTTCTATAGATTAAAGGACATGGGGTTAAAACTCCCTGTACTGGGACTGATTTGAGATTGAAATATCTTCAGCACCTATTTGCAACAAAATTTAATTTCAATTATATTAAACAGAGAAGTGAACCATTAATGTTTCAAAAGTCAGCAGTGTTTCATTGGATCTGTTCAGCTACACATAAGCTCTACTTCTAAGCTTGCAACCTTCTTTGTGGACGTTACCTCCACAAGTTACTCATTTAATCCTCCTAGTGCTTTTACTGATTCAACAGTACACGATTTCCCCAT\n",
    "\n",
    "Here's some pseudocode.\n",
    "\n",
    "- For each position, i, in the sequence, a kmer is defined as the string from position i to position i + 6\n",
    "- Loop through all possible i values, deriving the kmer that corresponds to that i value (perhaps by slicing the sequence)\n",
    "- Store the occurence of that kmer in a dictionary of the form {kmer : number of observations}"
   ]
  },
  {
   "cell_type": "code",
   "execution_count": null,
   "metadata": {
    "collapsed": true
   },
   "outputs": [],
   "source": [
    "##PUT YOUR CODE HERE##\n"
   ]
  }
 ],
 "metadata": {
  "anaconda-cloud": {},
  "kernelspec": {
   "display_name": "Python 3",
   "language": "python",
   "name": "python3"
  },
  "language_info": {
   "codemirror_mode": {
    "name": "ipython",
    "version": 3
   },
   "file_extension": ".py",
   "mimetype": "text/x-python",
   "name": "python",
   "nbconvert_exporter": "python",
   "pygments_lexer": "ipython3",
   "version": "3.7.3"
  }
 },
 "nbformat": 4,
 "nbformat_minor": 2
}
