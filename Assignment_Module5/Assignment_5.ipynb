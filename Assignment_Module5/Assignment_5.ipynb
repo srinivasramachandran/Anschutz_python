{
 "cells": [
  {
   "cell_type": "markdown",
   "metadata": {},
   "source": [
    "# <font color = 'red'> Assignment 5 </font>\n",
    "\n",
    "There are three exercises below, each with an empty code block after them. Fill the code blocks with code to answer each exercise."
   ]
  },
  {
   "cell_type": "markdown",
   "metadata": {},
   "source": [
    "## Exercise 1\n",
    "\n",
    "Write a function that takes in a DNA sequence, \"transcribes\" it to RNA, and then translates it into a peptide sequence.  Use this function to translate the sequence 'ATTAACAGCGAACGCACCTGCCTGGAAGTGGAACGCATGGAAAGCAGCGCGGGCGAACATGAACGCGAA'.\n",
    "\n",
    "Here's some pseudocode to help you out.\n",
    "\n",
    "Make a dictionary that relates codons and amino acids by zipping the two lists provided in the code block below.\n",
    "Give your function that dictionary and a sequence.\n",
    "Have your function \"transcribe\" the sequence by turning Ts into Us.\n",
    "Make a list of all codons in the '0' open reading frame.\n",
    "Using your dictionary, find the amino acid corresponding to each codon."
   ]
  },
  {
   "cell_type": "code",
   "execution_count": null,
   "metadata": {
    "collapsed": true
   },
   "outputs": [],
   "source": [
    "codons = ['UUU', 'UUC', 'UUA', 'UUG', 'UCU', 'UCC', 'UCA', 'UCG', 'UAU', 'UAC', 'UAA', 'UAG', 'UGU', 'UGC', 'UGA', 'UGG', \n",
    "          'CUU', 'CUC', 'CUA', 'CUG', 'CCU', 'CCC', 'CCA', 'CCG', 'CAU', 'CAC', 'CAA', 'CAG', 'CGU', 'CGC', 'CGA', 'CGG', \n",
    "          'AUU', 'AUC', 'AUA', 'AUG', 'ACU', 'ACC', 'ACA', 'ACG', 'AAU', 'AAC', 'AAA', 'AAG', 'AGU', 'AGC', 'AGA', 'AGG', \n",
    "          'GUU', 'GUC', 'GUA', 'GUG', 'GCU', 'GCC', 'GCA', 'GCG', 'GAU', 'GAC', 'GAA', 'GAG', 'GGU', 'GGC', 'GGA', 'GGG']\n",
    "\n",
    "aminoacids = 'FFLLSSSSYY**CC*WLLLLPPPPHHQQRRRRIIIMTTTTNNKKSSRRVVVVAAAADDEEGGGG'"
   ]
  },
  {
   "cell_type": "markdown",
   "metadata": {},
   "source": [
    "## Exercise 2\n",
    "\n",
    "You have a bunch of currency of various demoninations in your pocket.  Specifically, you have three $20 bills, five $10 bills, two $5 bills, and five $1 bills.  Using these bills, how many different ways can you make $100?\n",
    "\n",
    "Here's some pseudocode to help out.\n",
    "\n",
    "Make a list of all the bills you have.\n",
    "Using the combinations function, get all possible combinations of these bills.\n",
    "Sum the denominations in each combination and keep the combinations whose sum is 100."
   ]
  },
  {
   "cell_type": "code",
   "execution_count": null,
   "metadata": {
    "collapsed": true
   },
   "outputs": [],
   "source": []
  },
  {
   "cell_type": "markdown",
   "metadata": {},
   "source": [
    "## Exercise 3\n",
    "\n",
    "In your favorite protein there is a stretch of six amino acids that contain two proline residues.  Curiously, in this particular 6mer, the two prolines are right next to each other.  You wonder how rare this is.  You have gathered all 6mer sequences in the entire proteome and found that in only 1% of these 6mer sequences are the prolines next to each other.  For a 6mer amino acid sequence that contains two prolines, if amino acids were purely randomly distributed, what is the expected frequency of 6mers that contain consecutive prolines?  Are consecutive prolines depleted from naturally occuring protein sequence?\n",
    "\n",
    "Here's some pseudocode.\n",
    "\n",
    "6mer sequences that contain two prolines can be represented as 'XXPPXX'. The identity of non-proline residues doesn't matter, just so long as we represent them as being non-proline.\n",
    "\n",
    "Get all permutations of the 6mer 'XXPPXX'.  Count the number of those that contain consecutive prolines.  Divide that by the total number of permutations to get a frequency."
   ]
  },
  {
   "cell_type": "code",
   "execution_count": null,
   "metadata": {
    "collapsed": true
   },
   "outputs": [],
   "source": []
  }
 ],
 "metadata": {
  "kernelspec": {
   "display_name": "Python 3",
   "language": "python",
   "name": "python3"
  },
  "language_info": {
   "codemirror_mode": {
    "name": "ipython",
    "version": 3
   },
   "file_extension": ".py",
   "mimetype": "text/x-python",
   "name": "python",
   "nbconvert_exporter": "python",
   "pygments_lexer": "ipython3",
   "version": "3.7.3"
  }
 },
 "nbformat": 4,
 "nbformat_minor": 2
}
