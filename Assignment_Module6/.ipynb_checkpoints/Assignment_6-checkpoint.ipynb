{
 "cells": [
  {
   "cell_type": "markdown",
   "metadata": {},
   "source": [
    "## Assignment 6\n",
    "\n",
    "    1. Random number generators are useful in creating dummy data to test robustness of your analysis. Generate values for corresponding to a cosine function in the interval [0,4*pi] and then add noise at 5% and 10% of the value of the cosine function. The output should be two ndarrays.\n",
    "    \n",
    "    Put another way, for each value in your interval, pick a random value that is no more than 5% or 10% away from the real value."
   ]
  },
  {
   "cell_type": "code",
   "execution_count": null,
   "metadata": {},
   "outputs": [],
   "source": [
    "#Solution code here"
   ]
  },
  {
   "cell_type": "markdown",
   "metadata": {},
   "source": [
    "    2. Linear equations can be solved using matrices. Write code to solve for 3 unknowns in the following equations using ndarrays.\n",
    "`\n",
    " w  + 2x + 4y -  z =  7\n",
    "2w  - 2x -  y +  z =  5\n",
    " w  +  x - 3y + 2z = 14\n",
    "3w  + 4x - 5y + 3z = 26\n",
    "`<br><br>\n",
    "The solution is w=1, x=2, y=3, z=10.<br>\n",
    "Here is a link where the math is explained: https://www.mathsisfun.com/algebra/systems-linear-equations-matrices.html"
   ]
  },
  {
   "cell_type": "code",
   "execution_count": null,
   "metadata": {
    "collapsed": true
   },
   "outputs": [],
   "source": [
    "#Solution code here"
   ]
  },
  {
   "cell_type": "markdown",
   "metadata": {},
   "source": [
    "   `3. The value of pi can be calculated by comparing the area of circle inscribed in a square to the area of the square. We can do this numerically by generating random numbers. Consider the following diagram:`<br>\n",
    "    <img src=\"IMG_20190208_071332424.jpg\">\n",
    "<br>The area of the circle divided by the area of the square (m) = pi.(r\\*\\*2)/4.r\\*\\*2<br>\n",
    "                                                              m  = pi/4<br>\n",
    "                                                            4\\*m = pi<br>\n",
    "We can choose random points that fall within the square to approximate the area of the square: random values of x between 0 and 2, and random values of y between 0 and 2.<br>\n",
    "We can then ask if that random point falls within the circle to approximate area of circle: (x-1)\\*\\*2 + (y-1)\\*\\*2 <= 1<br>\n",
    "\n",
    "So here is the psuedocode:\n",
    "1. Find 1000 random values for x and y between 0 and 2\n",
    "2. Count if that (x,y) lies within the circle (let us call this \"area_of_c\")\n",
    "3. Find pi: 4\\*area_of_c/1000\n",
    "\n",
    "Repeat the same for 10,000 random numbers and 100,000 random numbers.\n"
   ]
  },
  {
   "cell_type": "code",
   "execution_count": null,
   "metadata": {
    "collapsed": true
   },
   "outputs": [],
   "source": [
    "#code here"
   ]
  }
 ],
 "metadata": {
  "anaconda-cloud": {},
  "kernelspec": {
   "display_name": "Python 3",
   "language": "python",
   "name": "python3"
  },
  "language_info": {
   "codemirror_mode": {
    "name": "ipython",
    "version": 3
   },
   "file_extension": ".py",
   "mimetype": "text/x-python",
   "name": "python",
   "nbconvert_exporter": "python",
   "pygments_lexer": "ipython3",
   "version": "3.7.3"
  }
 },
 "nbformat": 4,
 "nbformat_minor": 1
}
