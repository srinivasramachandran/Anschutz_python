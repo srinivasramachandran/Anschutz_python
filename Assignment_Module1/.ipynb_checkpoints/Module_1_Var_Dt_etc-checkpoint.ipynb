{
 "cells": [
  {
   "cell_type": "markdown",
   "metadata": {},
   "source": [
    "### Exercises for Module 1\n",
    "1. Assign the integer 5 to the variable a. Assign the integer 7 to variable b. Now interchange the values of a and b, without using numbers."
   ]
  },
  {
   "cell_type": "code",
   "execution_count": null,
   "metadata": {},
   "outputs": [],
   "source": [
    "#Write out the code here for Exercise 1"
   ]
  },
  {
   "cell_type": "markdown",
   "metadata": {},
   "source": [
    "2. Write the code to find out if a variable x is odd or even and then to print \"Even number\" or \"Odd number\" based on value of x."
   ]
  },
  {
   "cell_type": "code",
   "execution_count": null,
   "metadata": {},
   "outputs": [],
   "source": [
    "#Write the code here for Exercise 2"
   ]
  },
  {
   "cell_type": "markdown",
   "metadata": {},
   "source": [
    "3. The rule of divisibility by 3 is that the sum of the digits should be divisible by 3. The rule of divisibility by 4 is that the last two digits are divisible by 4. Write code to check if a 3 digit number is divisible by 4 and 3 only using the rules of divisibility."
   ]
  },
  {
   "cell_type": "code",
   "execution_count": null,
   "metadata": {},
   "outputs": [],
   "source": [
    "#Write the code here for Exercise 3"
   ]
  },
  {
   "cell_type": "markdown",
   "metadata": {},
   "source": [
    "4. With only the numbers 10 and 2, use mathematical and string operations to end up with the number 5540."
   ]
  },
  {
   "cell_type": "code",
   "execution_count": null,
   "metadata": {},
   "outputs": [],
   "source": [
    "#Write the code for Exercise 4"
   ]
  },
  {
   "cell_type": "markdown",
   "metadata": {},
   "source": [
    "5. Without running this code, tell us what the output will be (you can run it after submitting the answer!):<br>\n",
    "x = 5<br>\n",
    "y = x + 3<br>\n",
    "y = int(str(y) + \"2\")<br>\n",
    "print(y)<br>"
   ]
  },
  {
   "cell_type": "markdown",
   "metadata": {},
   "source": [
    "Write the answer for Exercise 5 here: "
   ]
  }
 ],
 "metadata": {
  "anaconda-cloud": {},
  "kernelspec": {
   "display_name": "Python 3",
   "language": "python",
   "name": "python3"
  },
  "language_info": {
   "codemirror_mode": {
    "name": "ipython",
    "version": 3
   },
   "file_extension": ".py",
   "mimetype": "text/x-python",
   "name": "python",
   "nbconvert_exporter": "python",
   "pygments_lexer": "ipython3",
   "version": "3.7.3"
  }
 },
 "nbformat": 4,
 "nbformat_minor": 1
}
