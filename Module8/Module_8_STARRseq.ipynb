{
 "cells": [
  {
   "cell_type": "markdown",
   "metadata": {},
   "source": [
    "# Python in genomic analysis - a case study\n",
    "\n",
    "1. Read the paper (Optional if you are looking at your own data)\n",
    "2. Formulate the question\n",
    "3. Find the data\n",
    "4. Obtain, process\n",
    "5. Analyze!\n",
    "\n",
    "## Paper: Hormone-Responsive Enhancer-Activity Maps Reveal Predictive Motifs, Indirect Repression, and Targeting of Closed Chromatin\n",
    "\n",
    "### Questions: \n",
    "1. Where are the ecdysone-induced enhancers in chromosome 3L?\n",
    "2. What transcription factors may bind at these enhancers?\n",
    "\n",
    "\n"
   ]
  },
  {
   "cell_type": "markdown",
   "metadata": {},
   "source": [
    "### How to get the data?\n",
    "\n",
    "#### This happens behind the scenes for this class to save time, but I wanted to share the whole process so you are aware of how you could do this by yourself.\n",
    "\n",
    "1. Get the \"reads\" as fastq files<br><br>\n",
    "`\n",
    "fastq-dump SRR1204764\n",
    "fastq-dump SRR1204762\n",
    "`\n",
    "<br><br>\n",
    "2. Align the reads to the genome<br><br>\n",
    "`\n",
    "bowtie2 -x /beevol/home/srinivas/lib/bowtie2/dm6/genome -q SRR1204764.fastq --no-unal -p 10 >  w_ecd.sam\n",
    "bowtie2 -x /beevol/home/srinivas/lib/bowtie2/dm6/genome -q SRR1204762.fastq --no-unal -p 10 >  wo_ecd.sam\n",
    "`\n",
    "<br><br>\n",
    "3. Convert the sam to bam (binary compressed format that will be read by bedtools)<br><br>\n",
    "`\n",
    "samtools view -Sb w_ecd.sam > w_ecd.bam\n",
    "samtools view -Sb wo_ecd.sam > wo_ecd.bam\n",
    "`\n",
    "<br><br>\n",
    "\n",
    "4. Convert bam to bed (bed file will have one read per line, a human readable form)<br><br>\n",
    "`\n",
    "bedtools bamtobed -i w_ecd.bam > w_ecd.bed\n",
    "bedtools bamtobed -i wo_ecd.bam > wo_ecd.bed\n",
    "`\n",
    "<br><br>\n",
    "\n",
    "5. Convert bed to wig (we collapse the reads into a wig file)<br><br>\n",
    "\n",
    "`123456789`<br>\n",
    "`----_____`<br>\n",
    "`___----__`<br>\n",
    "`_____----`<br>\n",
    "`______---`<br>\n",
    "`______---`<br>\n",
    "`111212433`<br>"
   ]
  },
  {
   "cell_type": "markdown",
   "metadata": {},
   "source": [
    "Let us start by reading in wiggle files, which have the STARR-seq read densities for every 10 bp in chromosome 3L."
   ]
  },
  {
   "cell_type": "code",
   "execution_count": null,
   "metadata": {},
   "outputs": [],
   "source": [
    "def readwig (inFile):\n",
    "  wig=open(inFile, 'r' )\n",
    "  val={}\n",
    "  for line in wig:\n",
    "    lineL = line.split()\n",
    "    if \"chr\" in lineL[1]:\n",
    "      cj=lineL[1]\n",
    "      chrom=cj[9:]\n",
    "      print(chrom)\n",
    "      val.setdefault(chrom,{})\n",
    "    elif \"rack\" not in line:\n",
    "      pos=int(lineL[0])\n",
    "      val[chrom][pos] = float(lineL[1])\n",
    "  return(val)"
   ]
  },
  {
   "cell_type": "code",
   "execution_count": null,
   "metadata": {},
   "outputs": [],
   "source": [
    "w_ecd = readwig('3L.w_ecd.wig')\n",
    "wo_ecd = readwig('3L.wo_ecd.wig')"
   ]
  },
  {
   "cell_type": "markdown",
   "metadata": {},
   "source": [
    "### 1. Directly view the data\n",
    "How does a region on the chromosome 3L look in our datasets? Since this experiment is mapping enhancers activated after ecdysone treatment, let us look at a gene that is responsive to ecdysone: Eip75B, which goes from 17950953 to 18064696 on chromosome 3L."
   ]
  },
  {
   "cell_type": "code",
   "execution_count": null,
   "metadata": {},
   "outputs": [],
   "source": [
    "import numpy as np\n",
    "subset_w_ecd = []\n",
    "for i in range(17950953,18064696):\n",
    "    if i in w_ecd['3L']:\n",
    "        subset_w_ecd.append(w_ecd['3L'][i])\n",
    "ns_w_ecd = np.array(subset_w_ecd)"
   ]
  },
  {
   "cell_type": "code",
   "execution_count": null,
   "metadata": {},
   "outputs": [],
   "source": [
    "import matplotlib.pyplot as plt\n",
    "\n",
    "plt.plot(ns_w_ecd)\n",
    "plt.show()"
   ]
  },
  {
   "cell_type": "markdown",
   "metadata": {},
   "source": [
    "### 2. How do we extract peaks from STARR-seq wig files?\n",
    "\n",
    "The peaks in STARR-seq read density would correspond to enhancers, which we want to identify.\n",
    "\n",
    "SciPy has an in-built peak caller, which we can use. We will first use some toy data to understand how the peak caller works. "
   ]
  },
  {
   "cell_type": "code",
   "execution_count": null,
   "metadata": {},
   "outputs": [],
   "source": [
    "import scipy\n",
    "from scipy.signal import find_peaks\n",
    "from numpy import pi\n",
    "\n",
    "x = np.linspace( 0, 6*pi, 600 )\n",
    "f = np.sin(x)\n",
    "\n",
    "# https://docs.scipy.org/doc/scipy/reference/generated/scipy.signal.find_peaks.html\n",
    "\n",
    "peaks, _ = find_peaks(f, height=0)"
   ]
  },
  {
   "cell_type": "code",
   "execution_count": null,
   "metadata": {},
   "outputs": [],
   "source": [
    "plt.plot(x,f)\n",
    "plt.plot(x[peaks], f[peaks], \"ro\")\n",
    "plt.ylim(-1.1,1.1)\n",
    "plt.show()"
   ]
  },
  {
   "cell_type": "markdown",
   "metadata": {},
   "source": [
    "Now let us try the peak caller on our ecdysone-responsive gene."
   ]
  },
  {
   "cell_type": "code",
   "execution_count": null,
   "metadata": {},
   "outputs": [],
   "source": [
    "indices = np.arange(0,len(ns_w_ecd))\n",
    "peaks, _ = find_peaks(ns_w_ecd) \n",
    "plt.plot(ns_w_ecd)\n",
    "plt.plot(indices[peaks],ns_w_ecd[peaks], \"ro\")\n",
    "plt.show()"
   ]
  },
  {
   "cell_type": "markdown",
   "metadata": {},
   "source": [
    "That is too many peaks! That is because find_peaks is identifying every local maxima. We can set thresholds to cull out most of the non-peaks. What if we want to find local maxima that are at least 4 standard deviations away from the mean."
   ]
  },
  {
   "cell_type": "code",
   "execution_count": null,
   "metadata": {},
   "outputs": [],
   "source": [
    "peaks, _ = find_peaks(ns_w_ecd, height=4*ns_w_ecd.std()+ns_w_ecd.mean())\n",
    "plt.plot(ns_w_ecd)\n",
    "plt.plot(indices[peaks],ns_w_ecd[peaks], \"ro\")\n",
    "plt.show()\n",
    "#our unit is 10 bp, so distance of 10 is highest peak within 100 bp"
   ]
  },
  {
   "cell_type": "markdown",
   "metadata": {},
   "source": [
    "If you think the distribution is too rough, we can use SciPy functions to smooth the distribution. For example, we can try the Savitsky Golay filter. Let us try to smooth this distribution. We will use Savitsky Golay filter.\n",
    "<br>\n",
    "https://en.wikipedia.org/wiki/Savitzky%E2%80%93Golay_filter\n",
    "<br>\n",
    "https://docs.scipy.org/doc/scipy-0.16.1/reference/generated/scipy.signal.savgol_filter.html"
   ]
  },
  {
   "cell_type": "code",
   "execution_count": null,
   "metadata": {},
   "outputs": [],
   "source": [
    "from scipy.signal import savgol_filter\n",
    "smooth_ar = savgol_filter(ns_w_ecd,9,1)\n",
    "peaks, _ = find_peaks(smooth_ar, height=4*smooth_ar.std()+smooth_ar.mean(), distance=10)\n",
    "plt.plot(smooth_ar,)\n",
    "plt.plot(indices[peaks],smooth_ar[peaks], \"ro\")\n",
    "plt.show()"
   ]
  },
  {
   "cell_type": "markdown",
   "metadata": {},
   "source": [
    "### 3. Call peaks on the whole chromosome\n",
    "We will smooth the whole chromosome and call all peaks. "
   ]
  },
  {
   "cell_type": "code",
   "execution_count": null,
   "metadata": {},
   "outputs": [],
   "source": [
    "#let us apply this to the whole chromosome\n",
    "\n",
    "temp_list = [] #Values\n",
    "pos_list = [] #Chromosome positions\n",
    "\n",
    "for i in sorted(w_ecd['3L'].keys()):\n",
    "    temp_list.append(w_ecd['3L'][i])\n",
    "    pos_list.append(i)\n",
    "\n",
    "chrom_array = np.array(temp_list)\n",
    "\n",
    "smooth_ar = savgol_filter(chrom_array,9,1)\n",
    "peaks_ecd, _ = find_peaks(smooth_ar, height=4*smooth_ar.std()+smooth_ar.mean(), distance=10)"
   ]
  },
  {
   "cell_type": "markdown",
   "metadata": {},
   "source": [
    "How many peaks did we find?"
   ]
  },
  {
   "cell_type": "code",
   "execution_count": null,
   "metadata": {},
   "outputs": [],
   "source": [
    "len(peaks_ecd)"
   ]
  },
  {
   "cell_type": "markdown",
   "metadata": {},
   "source": [
    "Let us perform the same analysis on the STARR-seq wig file from cells not exposed to ecdysone. These will be our control enhancers"
   ]
  },
  {
   "cell_type": "code",
   "execution_count": null,
   "metadata": {},
   "outputs": [],
   "source": [
    "#Now for the non ecdysone treated sample\n",
    "\n",
    "temp_list = []\n",
    "pos_list_wo = []\n",
    "\n",
    "for i in sorted(wo_ecd['3L'].keys()):\n",
    "    temp_list.append(wo_ecd['3L'][i])\n",
    "    pos_list_wo.append(i)\n",
    "\n",
    "chrom_array_wo = np.array(temp_list)\n",
    "\n",
    "smooth_ar_wo = savgol_filter(chrom_array_wo,9,1)\n",
    "peaks_wo_ecd, _ = find_peaks(smooth_ar_wo, height=4*smooth_ar_wo.std()+smooth_ar_wo.mean(), distance=10)"
   ]
  },
  {
   "cell_type": "markdown",
   "metadata": {},
   "source": [
    "#### Do the peaks make sense?\n",
    "\n",
    "Let us first understand how to trace back the genomic location from the peak<br><br>\n",
    "\n",
    "`Indices  :  0  1  2  3  4  5  6  7  8`<br>\n",
    "`Positions: 22 23 24 25 26 27 28 29 30`<br>\n",
    "`maxima   :           *        *      `<br><br>\n",
    "`peak_list : 3,6`<br><br>\n",
    "`peak_list[0] = 3`<br><br>\n",
    "`positions[peak_list[0]] = 25`\n",
    "<br><br>Now we can ask if the signal around the peak position is high.\n"
   ]
  },
  {
   "cell_type": "markdown",
   "metadata": {},
   "source": [
    "Let us spit out a random peak from the list.\n",
    "1. Find a random number between 0 and the number of peaks idenfified\n",
    "2. Find the chromosomal position of the peak that correspond to the random  peak index identified in the step above."
   ]
  },
  {
   "cell_type": "code",
   "execution_count": null,
   "metadata": {},
   "outputs": [],
   "source": [
    "rand_index = int(np.random.rand()*len(peaks_ecd)-1)\n",
    "print(rand_index)\n",
    "print(peaks_ecd[rand_index])\n",
    "peak_val = pos_list[peaks_ecd[rand_index]]\n",
    "print(peak_val)"
   ]
  },
  {
   "cell_type": "markdown",
   "metadata": {},
   "source": [
    "We will plot the STARR-seq density around this random peak and ask if it looks like a peak."
   ]
  },
  {
   "cell_type": "code",
   "execution_count": null,
   "metadata": {},
   "outputs": [],
   "source": [
    "subset_w_ecd = []\n",
    "location = []\n",
    "for i in range(peak_val-2000,peak_val+2000):\n",
    "    if i in w_ecd['3L']:\n",
    "        subset_w_ecd.append(w_ecd['3L'][i])\n",
    "    else:\n",
    "        subset_w_ecd.append(0)\n",
    "    location.append(i-peak_val)\n",
    "ns_w_ecd = np.array(subset_w_ecd)\n",
    "plt.plot(location,ns_w_ecd)\n",
    "plt.show()"
   ]
  },
  {
   "cell_type": "markdown",
   "metadata": {},
   "source": [
    "### I don't want to see one peak at a time. How about an average profile of all peaks?\n",
    "\n",
    "`\n",
    "position: -2000 -1990 ....... 0  ....... 1990 2000\n",
    "peak 1  :    x1    x2 ....... xn .......   xm   xp\n",
    "peak 2  :    y1    y2 ....... yn .......   ym   yp\n",
    ".\n",
    ".\n",
    ".\n",
    ".`<br>\n",
    "`peak j  :    z1    z2 ....... zn .......   zm   zp`<br>\n",
    "`--------------------------------------------------`<br>\n",
    "`Average :    a1    a2 ....... an .......   am   ap`<br>"
   ]
  },
  {
   "cell_type": "code",
   "execution_count": null,
   "metadata": {},
   "outputs": [],
   "source": [
    "import pandas as pd\n",
    "\n",
    "peak_score_w_ecd = {}\n",
    "\n",
    "fh = open(\"py_peaks_w_ecd.bed\",\"w\")\n",
    "ave_vals = {}\n",
    "location = []\n",
    "for p in peaks_ecd:\n",
    "    peak_pos = pos_list[p]\n",
    "    temp_str = \"chr3L\\t\" + str(peak_pos-250) + \"\\t\" + str(peak_pos+250) + \"\\t\" + str(p) + \"\\n\"\n",
    "    fh.write(temp_str)\n",
    "    for i in range(peak_pos-2000,peak_pos+2000):\n",
    "        if i in w_ecd['3L']:\n",
    "            ave_vals.setdefault('val',{})\n",
    "            if i-peak_val in ave_vals:\n",
    "                ave_vals['val'][i-peak_pos] += w_ecd['3L'][i]\n",
    "            else:\n",
    "                ave_vals['val'][i-peak_pos] = w_ecd['3L'][i]\n",
    "    score=0\n",
    "    key=\"chr3L:\" + str(peak_pos-250) + \"-\" + str(peak_pos+250)\n",
    "    for i in range(peak_pos-100,peak_pos+100):\n",
    "        if i in w_ecd['3L']:\n",
    "            score+=w_ecd['3L'][i]\n",
    "        peak_score_w_ecd[key] = score/20\n",
    "\n",
    "fh.close()\n",
    "df_ave_vals = pd.DataFrame(ave_vals)\n",
    "df_ave_vals['val'] /= len(peaks_ecd)\n",
    "#df_ave_vals.head()\n",
    "plt.plot(df_ave_vals)\n",
    "plt.show()"
   ]
  },
  {
   "cell_type": "code",
   "execution_count": null,
   "metadata": {},
   "outputs": [],
   "source": [
    "fh = open(\"py_peaks_wo_ecd.bed\",\"w\")\n",
    "ave_vals_wo = {}\n",
    "location_wo = []\n",
    "for p in peaks_wo_ecd:\n",
    "    peak_pos = pos_list_wo[p]\n",
    "    temp_str = \"chr3L\\t\" + str(peak_pos-250) + \"\\t\" + str(peak_pos+250) + \"\\t\" + str(p) + \"\\n\"\n",
    "    fh.write(temp_str)\n",
    "    for i in range(peak_pos-2000,peak_pos+2000):\n",
    "        if i in wo_ecd['3L']:\n",
    "            ave_vals_wo.setdefault('val',{})\n",
    "            if i-peak_val in ave_vals_wo:\n",
    "                ave_vals_wo['val'][i-peak_pos] += wo_ecd['3L'][i]\n",
    "            else:\n",
    "                ave_vals_wo['val'][i-peak_pos]  = wo_ecd['3L'][i]\n",
    "\n",
    "fh.close()\n",
    "df_ave_vals = pd.DataFrame(ave_vals_wo)\n",
    "df_ave_vals['val'] /= len(peaks_wo_ecd)\n",
    "plt.plot(df_ave_vals)\n",
    "plt.show()"
   ]
  },
  {
   "cell_type": "markdown",
   "metadata": {
    "collapsed": true
   },
   "source": [
    "## 4. What Transcription Factor motifs underlie enhancer peaks?\n",
    "\n",
    "Now that we have identified the peaks in STARR-seq densitites that correspond to enhancers, let us now find the transcription factor motifs that are enriched in the enhancers. We will first extract the sequences underlying the enhancers that are activated in the presence of ecdysone. We will use bedtools to: \n",
    "1. Identify enhancers unique to ecdysone response\n",
    "2. Extract sequences of the enhancers that respond to ecdysone and control enhancers that don't. "
   ]
  },
  {
   "cell_type": "code",
   "execution_count": null,
   "metadata": {},
   "outputs": [],
   "source": [
    "import pybedtools \n",
    "\n",
    "enhancers_w_ecd = pybedtools.BedTool('py_peaks_w_ecd.bed')\n",
    "enhancers_wo_ecd = pybedtools.BedTool('py_peaks_wo_ecd.bed')\n",
    "\n",
    "#Enhancers unique to Ecdysone treatment:\n",
    "activated_enhancers = enhancers_w_ecd - enhancers_wo_ecd \n",
    "\n",
    "print(activated_enhancers.count())\n",
    "\n",
    "g = activated_enhancers.sequence(fi='3L.fa')\n",
    "\n",
    "#g.seqfn\n",
    "\n",
    "fo = open('w_ecd_peaks.fa', 'w')\n",
    "fo.write(open(g.seqfn).read())\n",
    "\n",
    "g = enhancers_wo_ecd.sequence(fi='3L.fa')\n",
    "\n",
    "fo = open('wo_ecd_peaks.fa', 'w')\n",
    "fo.write(open(g.seqfn).read())"
   ]
  },
  {
   "cell_type": "markdown",
   "metadata": {},
   "source": [
    "I identified motifs enriched in the enhancer sequence using FIMO, using all Drosophila enhancers in JASPAR (http://jaspar.genereg.net/search?q=&collection=CORE&tax_group=insects). We will parse the fimo output file using pandas."
   ]
  },
  {
   "cell_type": "code",
   "execution_count": null,
   "metadata": {},
   "outputs": [],
   "source": [
    "w_ecd_motifs = pd.read_csv('fimo_w_ecd.txt',sep='\\t')\n",
    "w_ecd_motifs.head()"
   ]
  },
  {
   "cell_type": "code",
   "execution_count": null,
   "metadata": {},
   "outputs": [],
   "source": [
    "wo_ecd_motifs = pd.read_csv('fimo_wo_ecd.txt',sep='\\t')\n",
    "wo_ecd_motifs.head()"
   ]
  },
  {
   "cell_type": "markdown",
   "metadata": {},
   "source": [
    "## 5. What motifs are enriched in the ecdysone receptors?\n",
    "\n",
    "1. Let us count the number of motifs in each set of enhancers using the groupby method in pandas.\n",
    "2. Normalize the count of each motif to the total number of motif occurence."
   ]
  },
  {
   "cell_type": "code",
   "execution_count": null,
   "metadata": {},
   "outputs": [],
   "source": [
    "norm_w_ecd = (w_ecd_motifs.groupby('motif_alt_id').count()/len(w_ecd_motifs)).iloc[:,0:1]\n",
    "norm_wo_ecd = (wo_ecd_motifs.groupby('motif_alt_id').count()/len(wo_ecd_motifs)).iloc[:,0:1]\n",
    "print(norm_w_ecd.head())\n",
    "print(norm_wo_ecd.head())\n",
    "mergeddf = pd.merge(norm_w_ecd, norm_wo_ecd, how = 'left', on = 'motif_alt_id')\n",
    "mergeddf.head()"
   ]
  },
  {
   "cell_type": "markdown",
   "metadata": {},
   "source": [
    "The ratio of normalized number of occurences of each motif in enhancers that respond to ecdysone compared to control enhancers gives us an idea of  the transcription factors that may be responding to ecdysone."
   ]
  },
  {
   "cell_type": "code",
   "execution_count": null,
   "metadata": {},
   "outputs": [],
   "source": [
    "ratio_w  = mergeddf['# motif_id_x']\n",
    "ratio_wo = mergeddf['# motif_id_y']\n",
    "\n",
    "Enrichment = (ratio_w / ratio_wo)\n",
    "#print(Enrichment)\n",
    "\n",
    "#Now add these values as a new column\n",
    "newdf = mergeddf.assign(Enrichment = Enrichment)\n",
    "print(newdf.sort_values(by='Enrichment',ascending=False).head(10))"
   ]
  },
  {
   "cell_type": "markdown",
   "metadata": {},
   "source": [
    "the top two transcription factor motifs enriched in response to ecdysone are \n",
    "\n",
    "1. Broad-complex core protein isoforms 1/2/3/4/5 - transcription factors that are activated by ecdysone\n",
    "2. Ecdysone receptor\n",
    "\n",
    "So the top two motifs in the enhancers activated by ecdysone correspond to transcription factors that respond to ecdysone - this makes a lot of sense. But to confirm our finding, let us ask if the STARR-seq densities at the enhancers with these motifs are high. We can extract the STARR-seq density at these enhancers using the dictionary peak_score_w_ecd we created when we were making average plots. We designed the keys of this dictionary to match the \"sequence name\" in the FIMO output file. So we can match every motif occurence in FIMO with a corresponding enhancer score. We can demonstrate this below, where we are using the \"sequence_name\" column of the first row to extract a string that can be a key in the peak_score_w_ecd dictionary."
   ]
  },
  {
   "cell_type": "code",
   "execution_count": null,
   "metadata": {},
   "outputs": [],
   "source": [
    "peak_score_w_ecd[w_ecd_motifs.iloc[0]['sequence_name']]"
   ]
  },
  {
   "cell_type": "markdown",
   "metadata": {},
   "source": [
    "Let us now extract the scores of the enhancers for each motif occurence in the FIMO output."
   ]
  },
  {
   "cell_type": "code",
   "execution_count": null,
   "metadata": {},
   "outputs": [],
   "source": [
    "with_score = pd.DataFrame()\n",
    "for i in newdf.sort_values(by='Enrichment',ascending=False).head(5).index.values:\n",
    "    new_df = w_ecd_motifs.query(\"motif_alt_id == '{0}'\".format(i)).iloc[:,1:3]\n",
    "    #print(new_df.head(1))\n",
    "    score_col = []\n",
    "    for index, row in new_df.iterrows():\n",
    "        score_col.append(peak_score_w_ecd[row['sequence_name']])\n",
    "    new_df = new_df.assign(score_col = score_col)\n",
    "    with_score = with_score.append(new_df)\n",
    "with_score.head()"
   ]
  },
  {
   "cell_type": "markdown",
   "metadata": {},
   "source": [
    "How does the STARR-seq score look for enhancers with different motifs? Let us make a boxplot of the scores for each motif. Since we made a dataframe with the scores for each motif occurence, we can use seaborn to make a boxplot easily. We see that enhancers with ecdysone receptor motif have higher score than all others."
   ]
  },
  {
   "cell_type": "code",
   "execution_count": null,
   "metadata": {},
   "outputs": [],
   "source": [
    "import seaborn as sns\n",
    "sns.boxplot(data = with_score, x = 'motif_alt_id', y = 'score_col')\n",
    "plt.show()"
   ]
  }
 ],
 "metadata": {
  "anaconda-cloud": {},
  "kernelspec": {
   "display_name": "Python 3",
   "language": "python",
   "name": "python3"
  },
  "language_info": {
   "codemirror_mode": {
    "name": "ipython",
    "version": 3
   },
   "file_extension": ".py",
   "mimetype": "text/x-python",
   "name": "python",
   "nbconvert_exporter": "python",
   "pygments_lexer": "ipython3",
   "version": "3.7.3"
  }
 },
 "nbformat": 4,
 "nbformat_minor": 1
}
