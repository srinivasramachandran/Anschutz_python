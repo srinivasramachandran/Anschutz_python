{
 "cells": [
  {
   "cell_type": "markdown",
   "metadata": {},
   "source": [
    "ver. 02022020\n",
    "# Module 4 - Strings and things\n",
    "\n",
    "We have reached a stage where you have started doing things with python that would take too long to do by hand or by using excel. Today we will learn the final few functions to enable you to write code that can process large datasets. At the end of this module, you will be able to read a data file and plot the results, all within jupyter.\n",
    "\n",
    "Today's topics:\n",
    " - Strings\n",
    " - File Handling\n",
    " - Importing packages\n",
    " - Basic plotting\n",
    " \n"
   ]
  },
  {
   "cell_type": "markdown",
   "metadata": {},
   "source": [
    "### Strings\n",
    "\n",
    "In typical code where you read information from a file, you are going to read each line of a file as a string. So knowing python's powerful options for string manipulation will help you write code that reads files like human eyes.\n",
    "\n",
    "Refreshing our memories, string is just a set of characters enclosed by quotation marks. We can manipulate strings in many ways with python that is powerful and very useful in a variety of contexts. \n",
    "\n",
    "Refresher: Each character in a string has an index. Consider the string \"A Test String\":<br>\n",
    "\n",
    "Character&emsp;Index<br>\n",
    "\"A\"&emsp;&emsp;0<br>\n",
    "\" \"&emsp;&emsp;1<br>\n",
    "\"T\"&emsp;&emsp;2<br>\n",
    "\"E\"&emsp;&emsp;3<br>\n",
    "\"S\"&emsp;&emsp;4<br>\n",
    "\"T\"&emsp;&emsp;5<br>\n",
    "\" \"&emsp;&emsp;6<br>\n",
    "\"S\"&emsp;&emsp;7<br>\n",
    "\"t\"&emsp;&emsp;8<br>\n",
    "\"r\"&emsp;&emsp;&ensp;9<br>\n",
    "\"i\"&emsp;&emsp;10<br>\n",
    "\"n\"&emsp;&emsp;11<br>\n",
    "\"g\"&emsp;&emsp;12<br>\n",
    "\n",
    "### Let us do some string manipulation!\n",
    "\n",
    "Let's some biological problems to illustrate string manipulation in python:\n",
    "\n",
    " - How do I calculate the percentage of positively charged residues in a protein sequence?\n",
    " - How do I get the reverse complement of a DNA sequence?\n",
    " - How do I calculate the GC% in my **raw** sequencing reads?\n",
    " \n",
    "#### In the course of these examples, we will learn how to: <br>\n",
    " - Count the occurance of a substring\n",
    " - Length of a string\n",
    " - Split a string\n",
    " - Replace characters in a string\n",
    " - Find characters in a string\n",
    " - Remove specific characters from a stirng\n",
    " - Ask if the string has alphabets or numbers\n",
    " - Open a file and read it inside jupyter\n",
    " - Use loops and datastructures to process files\n"
   ]
  },
  {
   "cell_type": "markdown",
   "metadata": {},
   "source": [
    "### How do I calculate the percentage of positively charged residues in a protein sequence?\n",
    "\n",
    "Let us take my favorite protein sequence and write code to find percentage of positively charged residues. Protein/DNA sequence files usually are in Fasta format:<br>\n",
    "\"A sequence in FASTA format begins with a single-line description, followed by lines of sequence data. The description line (defline) is distinguished from the sequence data by a greater-than (\">\") symbol at the beginning.\" ([From NCBI](https://blast.ncbi.nlm.nih.gov/Blast.cgi?CMD=Web&PAGE_TYPE=BlastDocs&DOC_TYPE=BlastHelp))<br><br>\n",
    "In reality, you would write code to process a fasta file. We will learn later today how to open and read a file, but for now, we will just initialize a string as a shortcut:"
   ]
  },
  {
   "cell_type": "code",
   "execution_count": null,
   "metadata": {},
   "outputs": [],
   "source": [
    "fasta_file=\">histone_H3\\nMARTKQTARKSTGGKAPRKQLATKAARKSAPATGGVKKPHRYRPGTVALREIRRYQKSTE\\\n",
    "LLIRKLPFQRLVREIAQDFKTDLRFQSSAVMALQEACEAYLVGLFEDTNLCAIHAKRVTIMPKDIQLARRIRGERA\"\n",
    "print(fasta_file)"
   ]
  },
  {
   "cell_type": "markdown",
   "metadata": {},
   "source": [
    "### String parsing\n",
    "\n",
    "String parsing can be a powerful way to process **large** or **many** files in batch mode to extract information relevant to us, avoiding manual curation. \n",
    "\n",
    "In the example of `fasta_file`, there are two lines:\n",
    "\n",
    "- First line is the sequence name, which starts with \">\"\n",
    "- Second line is the sequence itself\n",
    "\n",
    "How do we extract information from this fasta entry? We will use `string.split(separator)`. Here, `fasta_file` is the string, and `\\n` is the separator (split by lines).\n"
   ]
  },
  {
   "cell_type": "code",
   "execution_count": null,
   "metadata": {},
   "outputs": [],
   "source": [
    "#Two lines in the fasta file, let us separate the lines\n",
    "fasta_lines = fasta_file.split('\\n')"
   ]
  },
  {
   "cell_type": "markdown",
   "metadata": {},
   "source": [
    "Quick refresher: What kind of data type is `fasta_lines`?"
   ]
  },
  {
   "cell_type": "code",
   "execution_count": null,
   "metadata": {},
   "outputs": [],
   "source": [
    "type(fasta_lines)"
   ]
  },
  {
   "cell_type": "code",
   "execution_count": null,
   "metadata": {},
   "outputs": [],
   "source": [
    "print(fasta_lines)"
   ]
  },
  {
   "cell_type": "markdown",
   "metadata": {},
   "source": [
    "There were two lines, each of which are an element in the list `fasta_lines`. <br>Now, which of the elements is the header and which of them is the sequence? \n",
    "<br><br><br>\n",
    "How do I separate the header and the sequence?<br><br>\n",
    "It is always useful to write out or think out the pseudocode, so you can solve the problem in your head first, before writing any code.<br><br>\n",
    "Pseudocode:\n",
    "- The header in a fasta starts with `>`. We can check for that with `startswith()`. \n",
    "- We will go through each element of the list `fasta_lines` and check for the `>` sign. \n",
    "- If the `>` sign is absent, that element is the sequence."
   ]
  },
  {
   "cell_type": "code",
   "execution_count": null,
   "metadata": {},
   "outputs": [],
   "source": [
    "for i in fasta_lines: #for each line\n",
    "    if i.startswith('>'): #Does the line start with the \">\" symbol?\n",
    "        seq_name = i\n",
    "    else:\n",
    "        seq = i\n",
    "print(\"Seq name:\\t\"+seq_name+\"\\nSeq:\\t\\t\"+seq)"
   ]
  },
  {
   "cell_type": "markdown",
   "metadata": {},
   "source": [
    "Ok, we have taught python to recognize the sequence now! What did we want to do again? Right, find the percentage of positive residues in the sequence.\n",
    "\n",
    "Lysine (K), Arginine (R), and Histodine (H) are the positive residues. We use `string.count(pattern)` to count occurences of these residues. Here, `seq` is the `string` and `H`, `K`, and `R` form the `pattern`."
   ]
  },
  {
   "cell_type": "code",
   "execution_count": null,
   "metadata": {},
   "outputs": [],
   "source": [
    "for i in fasta_lines: #for each line\n",
    "    if i.startswith('>'): #Does the line start with the \">\" symbol?\n",
    "        seq_name = i\n",
    "    else:\n",
    "        seq = i\n",
    "        #Count the positive residues when we get to a sequence line\n",
    "        count = seq.count('K') + seq.count('R') + seq.count('H')\n",
    "        #print the results inside the loop\n",
    "        print(\"Seq name:\\t\"+seq_name+\"\\nSeq:\\t\\t\"+seq+\"\\nCount of Positive Residues:\"+str(count))"
   ]
  },
  {
   "cell_type": "markdown",
   "metadata": {},
   "source": [
    "Wait, this \"count\" doesn't take into account the protein length. We can't compare any two proteins on this metric. This brings us to the important concept of **normalization** which we will do a lot with any data we deal with to enable comparisons. How will you **normalize** the *positivity* of a protein??\n",
    "<br><br><br>\n",
    "We can **normalize** to total protein length. We use `len(string)` to find length of strings.\n",
    "(Can you think of other ways to normalize positive residues of a protein to enable comparisons?)"
   ]
  },
  {
   "cell_type": "code",
   "execution_count": null,
   "metadata": {},
   "outputs": [],
   "source": [
    "for i in fasta_lines: #for each line\n",
    "    if i.startswith('>'): #Does the line start with the \">\" symbol?\n",
    "        seq_name = i\n",
    "    else:\n",
    "        seq = i\n",
    "        #Count the positive residues when we get to a sequence line\n",
    "        count = seq.count('K') + seq.count('R') + seq.count('H')\n",
    "        percent_positive = count*100/len(seq)\n",
    "        #print the results inside the loop\n",
    "        #Use round to limit number of decimals\n",
    "        print(\"Seq name:\\t\"+seq_name+\"\\nSeq:\\t\\t\"+seq+\"\\n% of Positive Residues:\"+str(round(percent_positive,1)))"
   ]
  },
  {
   "cell_type": "markdown",
   "metadata": {},
   "source": [
    "Ok, so is 24 high or low or par for the course? We need to study more proteins! Let us add two \"housekeeping\" proteins: GAPDH and Actin, and an RNA binding protein, HuR. Again, we are using a shortcut for now and assigning the sequences to a `string`"
   ]
  },
  {
   "cell_type": "code",
   "execution_count": null,
   "metadata": {},
   "outputs": [],
   "source": [
    "fasta_file=\">histone_H3\\nMARTKQTARKSTGGKAPRKQLATKAARKSAPATGGVKKPHRYRPGTVALREIRRYQKSTELLIRKLPFQRLVREIAQDFKTDLR\\\n",
    "FQSSAVMALQEACEAYLVGLFEDTNLCAIHAKRVTIMPKDIQLARRIRGERA\\n>Actin\\nMDDDIAALVVDNGSGMCKAGFAGDDAPRAVFPSIVGRPRHQGVMVGMG\\\n",
    "QKDSYVGDEAQSKRGILTLKYPIEHGIVTNWDDMEKIWHHTFYNELRVAPEEHPVLLTEAPLNPKANREKMTQIMFETFNTPAMYVAIQAVLSLYASGRTTGIVMDSGDG\\\n",
    "VTHTVPIYEGYALPHAILRLDLAGRDLTDYLMKILTERGYSFTTTAEREIVRDIKEKLCYVALDFEQEMATAASSSSLEKSYELPDGQVITIGNERFRCPEALFQPSFLG\\\n",
    "MESCGIHETTFNSIMKCDVDIRKDLYANTVLSGGTTMYPGIADRMQKEITALAPSTMKIKIIAPPERKYSVWIGGSILASLSTFQQMWISKQEYDESGPSIVHRKCF\\n>\\\n",
    "Gapdh\\nMGKVKVGVNGFGRIGRLVTRAAFNSGKVDIVAINDPFIDLNYMVYMFQYDSTHGKFHGTVKAENGKLVINGNPITIFQERDPSKIKWGDAGAEYVVESTGVFT\\\n",
    "TMEKAGAHLQGGAKRVIISAPSADAPMFVMGVNHEKYDNSLKIISNASCTTNCLAPLAKVIHDNFGIVEGLMTTVHAITATQKTVDGPSGKLWRDGRGALQNIIPASTGA\\\n",
    "AKAVGKVIPELNGKLTGMAFRVPTANVSVVDLTCRLEKPAKYDDIKKVVKQASEGPLKGILGYTEHQVVSSDFNSDTHSSTFDAGAGIALNDHFVKLISWYDNEFGYSNRV\\\n",
    "VDLMAHMASKE\\n>HuR\\nMSNGYEDHMAEDCRGDIGRTNLIVNYLPQNMTQDELRSLFSSIGEVESAKLIRDKVAGHSLGYGFVNYVTAKDAERAINTLNGLRLQSKTIK\\\n",
    "VSYARPSSEVIKDANLYISGLPRTMTQKDVEDMFSRFGRIINSRVLVDQTTGLSRGVAFIRFDKRSEAEEAITSFNGHKPPGSSEPITVKFAANPNQNKNVALLSQLYHSP\\\n",
    "ARRFGGPVHHQAQRFRFSPMGVDHMSGLSGVNVPGNASSGWCIFIYNLGQDADEGILWQMFGPFGAVTNVKVIRDFNTNKCKGFGFVTMTNYEEAAMAIASLNGYRLGDKI\\\n",
    "LQVSFKTNKSHK\"\n",
    "print(fasta_file)"
   ]
  },
  {
   "cell_type": "markdown",
   "metadata": {},
   "source": [
    "Here is the great thing about our code: If we were counting by hand, **we** have to do three times the work. But , we can use the exact same code that we wrote before - no extra effort!"
   ]
  },
  {
   "cell_type": "code",
   "execution_count": null,
   "metadata": {},
   "outputs": [],
   "source": [
    "#First create a list of lines\n",
    "fasta_lines = fasta_file.split('\\n')\n",
    "#Now run the exact same loop!\n",
    "for i in fasta_lines: #for each line\n",
    "    if i.startswith('>'): #Does the line start with the \">\" symbol?\n",
    "        seq_name = i\n",
    "    else:\n",
    "        seq = i\n",
    "        #Count the positive residues when we get to a sequence line\n",
    "        count = seq.count('K') + seq.count('R') + seq.count('H')\n",
    "        percent_positive = count*100/len(seq)\n",
    "        #print the results inside the loop\n",
    "        print(\"Seq name:\\t\"+seq_name+\"\\nSeq:\\t\\t\"+seq+\"\\n% of Positive Residues:\"+str(round(percent_positive,1)))"
   ]
  },
  {
   "cell_type": "markdown",
   "metadata": {},
   "source": [
    "What other questions could we ask with `count()` and `len()` commands in biological sequences?"
   ]
  },
  {
   "cell_type": "markdown",
   "metadata": {},
   "source": [
    "### Replace\n",
    "We don't want the `>` sign as part of the sequence name. How do we get rid of it? <br>\n",
    "\n",
    "- `replace()` is like search & replace in text editing programs\n",
    "- str.replace(character to be replaced, replacement, count)\n",
    "- if count not specified, all instances replaced"
   ]
  },
  {
   "cell_type": "code",
   "execution_count": null,
   "metadata": {},
   "outputs": [],
   "source": [
    "seq_name = seq_name.replace(\">\",'')\n",
    "print(seq_name)"
   ]
  },
  {
   "cell_type": "markdown",
   "metadata": {},
   "source": [
    "### Find motifs??\n",
    "\n",
    "So, HuR binds the motif `AUUUUUA`. How do we ask if an RNA sequence has this motif?\n",
    "\n",
    "- `find()` method finds the first occurence of the specified value.\n",
    "- `str.find ( prefix [ , start [ , end ] ] )`"
   ]
  },
  {
   "cell_type": "code",
   "execution_count": null,
   "metadata": {},
   "outputs": [],
   "source": [
    "seq = 'AUGCAUGCAGCUAGCUAAACCCGGGUUAUAUAGAAUUUUUAAAGUAGUAGGGCCGAGUAGAUUUUUAAGAGAGAUAUUUUUAGAGAGAUAGAUGAGAGG'\n",
    "seq.find('AUUUUUA')"
   ]
  },
  {
   "cell_type": "markdown",
   "metadata": {},
   "source": [
    "What if there are more motifs? How to find all of the motifs in a sequence?\n",
    "(Googled it, and found the [answer](https://www.google.com/search?q=find+multiple+instances+python+string))"
   ]
  },
  {
   "cell_type": "code",
   "execution_count": null,
   "metadata": {},
   "outputs": [],
   "source": [
    "index=0\n",
    "while index < len(seq):\n",
    "    index = seq.find('AUUUUUA', index)\n",
    "    if index == -1:\n",
    "        break\n",
    "    print('Motif found at', index)\n",
    "    index += len('AUUUUUA')"
   ]
  },
  {
   "cell_type": "markdown",
   "metadata": {},
   "source": [
    "### An everyday example of string manipulation\n",
    "\n",
    "How to find the reverse complement of a *DNA* sequence?"
   ]
  },
  {
   "cell_type": "code",
   "execution_count": null,
   "metadata": {},
   "outputs": [],
   "source": [
    "seq = \"AUGCCAUGUUGTC\""
   ]
  },
  {
   "cell_type": "markdown",
   "metadata": {},
   "source": [
    "If, ahem, someone enters an *RNA* sequence, let us clean it up first:"
   ]
  },
  {
   "cell_type": "code",
   "execution_count": null,
   "metadata": {},
   "outputs": [],
   "source": [
    "if \"U\" in seq: #if it is RNA, let us change it to DNA before it gets degraded\n",
    "    better_seq = seq.replace('U','T')"
   ]
  },
  {
   "cell_type": "markdown",
   "metadata": {},
   "source": [
    "Now let us find the complement. We will take advantage of the fact that a string is iterable."
   ]
  },
  {
   "cell_type": "code",
   "execution_count": null,
   "metadata": {},
   "outputs": [],
   "source": [
    "print(better_seq)\n",
    "\n",
    "#First, let us define a list that will contain the complementary sequence\n",
    "complement_seq=[]\n",
    "\n",
    "#Iterate through the sequence (better_seq): this will go base by base\n",
    "#and then add the complementary base to complement_seq\n",
    "\n",
    "for i in range(0,len(better_seq)):\n",
    "    if(better_seq[i] == 'A'):\n",
    "        complement_seq.append('T')\n",
    "    elif(better_seq[i] == 'T'):\n",
    "        complement_seq.append('A')\n",
    "    elif(better_seq[i] == 'G'):\n",
    "        complement_seq.append('C')\n",
    "    elif(better_seq[i] == 'C'):\n",
    "        complement_seq.append('G')\n",
    "    #OK, is the code working as expected??\n",
    "    print(\"In the process\\t\",complement_seq)\n",
    "\n",
    "#print(\"\\n\\nHere is a sequence and its complement:\\n\")\n",
    "#print(\"5'\\t\",better_seq,\"\\t3'\")\n",
    "#complement_better_seq = ''.join(complement_seq)\n",
    "#print(\"3'\\t\",complement_better_seq,\"\\t5'\")"
   ]
  },
  {
   "cell_type": "code",
   "execution_count": null,
   "metadata": {},
   "outputs": [],
   "source": [
    "print(\"Ori_Seq\\t\\t\\t5'\\t\",seq,\"\\t3'\")\n",
    "print(\"DNA Seq\\t\\t\\t5'\\t\",better_seq,\"\\t3'\")\n",
    "print(\"Complement\\t\\t5'\\t\",complement_better_seq,\"\\t3'\\n\\n\")\n",
    "\n",
    "#Now reverse complement:\n",
    "rev_better_seq = complement_better_seq[::-1]\n",
    "#rev_better_seq = \"\".join(list(reversed(complement_better_seq)))\n",
    "print(\"DNA Seq\\t\\t\\t5'\\t\",better_seq,\"\\t3'\")\n",
    "print(\"Reverse Complement\\t5'\\t\",rev_better_seq,\"\\t3'\")"
   ]
  },
  {
   "cell_type": "markdown",
   "metadata": {},
   "source": [
    "### What kind of characters does my string have?\n",
    " - isalpha() - are all the characters alphabets?\n",
    " - isnumeric() - are all characters numeric?"
   ]
  },
  {
   "cell_type": "code",
   "execution_count": null,
   "metadata": {},
   "outputs": [],
   "source": [
    "seq = \"ATGCATCGA\"\n",
    "seq.isalpha()"
   ]
  },
  {
   "cell_type": "code",
   "execution_count": null,
   "metadata": {},
   "outputs": [],
   "source": [
    "seq.isnumeric()"
   ]
  },
  {
   "cell_type": "markdown",
   "metadata": {},
   "source": [
    "### One way to check it is only a DNA sequence\n",
    "\n",
    "Remove \"A\", \"T\", \"G\", and \"C\". Does anything remain?"
   ]
  },
  {
   "cell_type": "code",
   "execution_count": null,
   "metadata": {},
   "outputs": [],
   "source": [
    "input_seq = \"ATAGAGCUUU\"\n",
    "#input_seq = \"ATAGAGC\"\n",
    "tmp_seq = input_seq\n",
    "tmp_seq = tmp_seq.replace(\"A\",\"\").replace(\"T\",\"\").replace(\"G\",\"\").replace(\"C\",\"\")\n",
    "print(tmp_seq)\n",
    "if(len(tmp_seq)>0):\n",
    "    print(\"Non DNA alphabets detected\")\n",
    "else:\n",
    "    print(\"Sequence seems like DNA\")"
   ]
  },
  {
   "cell_type": "markdown",
   "metadata": {},
   "source": [
    "## Reading fasta files\n",
    "\n",
    "In the example where we calculated percentage positive residues, we put in the sequences by hand. This will hardly happen day-to-day: usually, you get a file that you need to process with your code. Let us see how we will do the same operations we did before, but when we are given a file of protein sequences (with all its quirks).<br><br>\n",
    "To read a file in python, we use the command `open()`\n",
    "\n",
    "\n",
    "### open() command\n",
    " - Two inputs - filename, mode\n",
    " - Mode can be \n",
    "     - 'r' for read\n",
    "     - 'w' for write (overwrites existing file)\n",
    "     - 'a' for append (adds to existing file)"
   ]
  },
  {
   "cell_type": "code",
   "execution_count": null,
   "metadata": {},
   "outputs": [],
   "source": [
    "a_file = open('protein_sequences.fasta', 'r' )\n",
    "# \"a_file\" is an object in which the whole file is stored\n",
    "\n",
    "#What datatype is \"a_file\"?\n",
    "print(type(a_file))\n",
    "\n",
    "#A good habit is to close the file after opening it. Always have the close command written out\n",
    "#and add code between the open and close commands\n",
    "a_file.close()"
   ]
  },
  {
   "cell_type": "markdown",
   "metadata": {},
   "source": [
    "In most scenarios, we will read the file line by line. Here is how we do that:"
   ]
  },
  {
   "cell_type": "code",
   "execution_count": null,
   "metadata": {},
   "outputs": [],
   "source": [
    "#print every line\n",
    "a_file = open('protein_sequences.fasta', 'r' )\n",
    "for line in a_file:\n",
    "    print(line)\n",
    "a_file.close()"
   ]
  },
  {
   "cell_type": "markdown",
   "metadata": {},
   "source": [
    "Wow, we can iterate over `a_file` just like the list `fasta_lines`! Can we then use the same code with a few edits??"
   ]
  },
  {
   "cell_type": "code",
   "execution_count": null,
   "metadata": {},
   "outputs": [],
   "source": [
    "a_file = open('protein_sequences.fasta', 'r' )\n",
    "for i in a_file: #for each line\n",
    "    if i.startswith('>'): #Does the line start with the \">\" symbol?\n",
    "        seq_name = i\n",
    "    else:\n",
    "        seq = i\n",
    "        #Count the positive residues when we get to a sequence line\n",
    "        count = seq.count('K') + seq.count('R') + seq.count('H')\n",
    "        percent_positive = count*100/len(seq)\n",
    "        #print the results inside the loop\n",
    "        print(\"Seq name:\\t\"+seq_name+\"\\nSeq:\\t\\t\"+seq+\"\\n% of Positive Residues:\"+str(round(percent_positive,1)))\n",
    "        #Put \"ST\" and \"EN\" to denote start and end of string that we read in:\n",
    "        #print(\"Seq name:\\t\"+seq_name+\"\\nSeq:\\t\\tST##\"+seq+\"##EN\\n% of Positive Residues:\"+str(round(percent_positive,1)))\n",
    "a_file.close()"
   ]
  },
  {
   "cell_type": "markdown",
   "metadata": {},
   "source": [
    "### \"We're not in Kansas anymore\"\n",
    "\n",
    "Till now, we were dealing with nice examples. But, real data are messy and most of the time is spent cleaning up the data to make them usable. What are the problems here?\n",
    "\n",
    "- Sequences are not in a single line\n",
    "- There are blank spaces and new lines at end of each line\n",
    "\n",
    "How do we clean up the data and read it into the variables we have? We will use two tricks:\n",
    "\n",
    "- String manipulation for cleanup\n",
    "- Make loops and conditionals to read the file like a human"
   ]
  },
  {
   "cell_type": "markdown",
   "metadata": {},
   "source": [
    "### strip, rstrip and lstrip\n",
    "\n",
    "- Default - remove whitespace from beginning, end, or both sides \n",
    "- For rstrip, lstrip - all combinations of characters in the chars argument are removed from the right/left of the string until first mismatch."
   ]
  },
  {
   "cell_type": "code",
   "execution_count": null,
   "metadata": {},
   "outputs": [],
   "source": [
    "a_file = open('protein_sequences.fasta', 'r' )\n",
    "for i in a_file: #for each line\n",
    "    if i.startswith('>'): #Does the line start with the \">\" symbol?\n",
    "        #Adding rstrip and lstrip\n",
    "        seq_name = i.rstrip().lstrip('>')\n",
    "    else:\n",
    "        #Adding rstrip\n",
    "        seq = i.rstrip()\n",
    "        #print the results inside the loop\n",
    "        print(\"Seq name:\\t\"+seq_name+\"\\nSeq:\\t\\tST##\"+seq+\"##EN\")\n",
    "a_file.close()"
   ]
  },
  {
   "cell_type": "markdown",
   "metadata": {},
   "source": [
    "Okay, now the pesky newlines and spaces have been removed. What about the fact that sequences are on multiple lines? Here is where we make the code read the file like a human. If we were reading the file manually, here is how we would do it:\n",
    "\n",
    "- Is there a \">\" sign? That is a sequence name. The next line(s) will have the sequence.\n",
    "- No \">\" sign, so the previous sequence name still applies, let us keep appending the lines till we see a \">\" sign\n",
    "- We saw a \">\" sign again! The previous sequence is complete! Let us do the analysis on that previous sequence\n",
    "\n",
    "Here is how we an write the code for it:"
   ]
  },
  {
   "cell_type": "code",
   "execution_count": null,
   "metadata": {},
   "outputs": [],
   "source": [
    "ln=0 #We need to keep track of the line number\n",
    "seq=''\n",
    "a_file = open('protein_sequences.fasta', 'r' )\n",
    "for i in a_file: #for each line\n",
    "    ln+=1\n",
    "    if i.startswith('>'): #Does the line start with the \">\" symbol?\n",
    "        #Check if this is the first line:\n",
    "        if ln == 1:\n",
    "            pass\n",
    "        else:\n",
    "            #The previous sequence is complete, count the positive residues when we get to a sequence line\n",
    "            count = seq.count('K') + seq.count('R') + seq.count('H')\n",
    "            percent_positive = count*100/len(seq)\n",
    "            #print the results inside the loop\n",
    "            print(\"Seq name:\\t\"+seq_name+\"\\nSeq:\\t\\t\"+seq+\"\\n% of Positive Residues:\"+str(round(percent_positive,1)))\n",
    "            seq=''\n",
    "        \n",
    "        #Now process the new sequence name:\n",
    "        seq_name = i.rstrip().lstrip('>')\n",
    "        \n",
    "    else:\n",
    "        #print(seq_name,seq)\n",
    "        seq = seq + i.rstrip()\n",
    "\n",
    "a_file.close()\n",
    "#Does everything look good?"
   ]
  },
  {
   "cell_type": "markdown",
   "metadata": {},
   "source": [
    "## A real life problem\n",
    "\n",
    "Sequencing reads from Illumina platform are stored as fastq files. Each sequencing \"read\" gets four lines. Here is an example:\n",
    "\n",
    "`@SRR036139.1 11_26_8:5:1:749:1421 length=36\n",
    "GCTGGCTGCGTCTGTGGTGGGTTTCATGTTAAGGTC\n",
    "+SRR036139.1 11_26_8:5:1:749:1421 length=36\n",
    "IIIIIIIIIIIIIIIIIIIIIIIIIIIIIIIIIIII`\n",
    "\n",
    "Description from FASTQ wiki page:\n",
    " - Line 1 begins with a '@' character and is followed by a sequence identifier and an optional description (like a FASTA title line).\n",
    " - Line 2 is the raw sequence letters.\n",
    " - Line 3 begins with a '+' character and is optionally followed by the same sequence identifier (and any description) again.\n",
    " - Line 4 encodes the quality values for the sequence in Line 2, and must contain the same number of symbols as letters in the sequence.\n",
    " \n",
    "### We want to determine the GC content of the reads in any FASTQ file. \n",
    "GC content could tell you about any bias in the library or if you are sequencing a new species for example, it tells you the properties of the species' genome. So, if you have a fastq file, how would you determine the GC content of the reads?\n",
    "\n",
    "- Somehow get the sequences from the file into a data structure you learned\n",
    "- Examine the sequence to get GC content\n",
    "- Present the data"
   ]
  },
  {
   "cell_type": "markdown",
   "metadata": {},
   "source": [
    "#### To get GC content of the sequences in a fastq file:\n",
    " - Find the line with sequence : Count every 4th line starting from 2\n",
    " - Get the GC content : (number of G + number of C)/(total number of nucleotides) \n",
    "\n",
    "#### Before we begin, a couple of important points:\n",
    "\n",
    "#### Toy Models are Important\n",
    "When you write new code, don't apply it to actual data in the beginning - the data may be complicated enough for you to not be able to judge if your code is running properly. Instead, start with a toy model - something that will give you a trivial result. For example, here is a toy fastq file that has only two sequences with GC content of 100% and 50%:<br>\n",
    "`@TEST1\n",
    "GCGCGCGCGCGC\n",
    "+TEST1\n",
    "IIIIIIIIII\n",
    "@TEST2\n",
    "ATGCATGCATGC\n",
    "+TEST2\n",
    "IIIIIIIIIIII`\n",
    "\n",
    "#### Also important to spell out the architecture of the data structures you will create\n",
    "\n",
    "Some of the data structures we will use:\n",
    "\n",
    "- `seqs` - a dictionary, where the key will be the sequence number, value will be the sequence\n",
    "- `gc_content` - a dictionary, where the key will be the sequence number, value will be the GC content\n",
    "- `fastq_file` - a file wrapper for reading the fastq file "
   ]
  },
  {
   "cell_type": "code",
   "execution_count": null,
   "metadata": {},
   "outputs": [],
   "source": [
    "#How do we get check for 2, 6, 10, 14th lines??\n",
    "#If we subtract 2 from them: 0, 4, 8, 12, ... should be divisible by 4. Let us check:\n",
    "for i in range(1,20,1):\n",
    "    print(i,(i-2)%4)"
   ]
  },
  {
   "cell_type": "code",
   "execution_count": null,
   "metadata": {},
   "outputs": [],
   "source": [
    "#Can we now pick the line numbers with the sequence?\n",
    "for i in range(1,20,1):\n",
    "    if ((i-2)%4 == 0):\n",
    "        print(i,\"is the sequence line\")"
   ]
  },
  {
   "cell_type": "code",
   "execution_count": null,
   "metadata": {},
   "outputs": [],
   "source": [
    "#Ok, line 2 is the sequence line for the 1st sequence, 6 for second sequence, and so forth.\n",
    "#Can we assign this explicitly?\n",
    "for i in range(2,20,4):\n",
    "    key = int((i-2)/4)+1 # Convert the line_no to a sequence ID\n",
    "    print(\"line\",i,\"contains the sequence for read #\",key)"
   ]
  },
  {
   "cell_type": "markdown",
   "metadata": {},
   "source": [
    "Okay, let us put all of this together"
   ]
  },
  {
   "cell_type": "code",
   "execution_count": null,
   "metadata": {},
   "outputs": [],
   "source": [
    "seqs={} # A dictionary to store sequences if needed later\n",
    "\n",
    "gc_content={} # A dictionary to store GC content if needed later\n",
    "\n",
    "line_no = 0 # Variable to count lines\n",
    "\n",
    "fastq_file = open('toy.fastq', 'r' ) #Open the fastq file\n",
    "\n",
    "for line in fastq_file: # Iterate through the fastq file\n",
    "    line_no+=1 #counting line numbers\n",
    "      \n",
    "    if (line_no-2)%4 == 0: # Does the line number belong to the series 2, 6, 10, 14, etc. ?\n",
    "        key = int((line_no-2)/4)+1 # Convert the line_no to a sequence ID\n",
    "        line=line.rstrip()\n",
    "        seqs[key] = line #Populate seqs dictionary\n",
    "        gc = line.count('G') + line.count('C')\n",
    "        gc=round(gc*100/len(line),2) #make it percentage, make it look pretty with round()\n",
    "        gc_content[key] = gc\n",
    "        print(key+1,line,gc) #print the results"
   ]
  },
  {
   "cell_type": "markdown",
   "metadata": {},
   "source": [
    "Let us try the real data now. (First 250 sequences from the SRA file: SRR036139"
   ]
  },
  {
   "cell_type": "code",
   "execution_count": null,
   "metadata": {},
   "outputs": [],
   "source": [
    "seqs={} # A dictionary to store sequences if needed later\n",
    "\n",
    "gc_content={} # A dictionary to store GC content if needed later\n",
    "\n",
    "line_no = 0 # Variable to count lines\n",
    "\n",
    "fastq_file = open('example.fastq', 'r' ) #Open the fastq file\n",
    "\n",
    "#Let us write sequence details in a file called \"seq_details.txt\"\n",
    "fh = open(\"seq_details.txt\",\"w\")\n",
    "\n",
    "for line in fastq_file: # Iterate through the fastq file\n",
    "    line_no+=1 #counting line numbers\n",
    "      \n",
    "    if (line_no-2)%4 == 0: # Does the line number belong to the series 2, 6, 10, 14, etc. ?\n",
    "        key = int((line_no-2)/4)+1 # Convert the line_no to a sequence ID\n",
    "        line=line.rstrip()\n",
    "        seqs[key] = line #Populate seqs dictionary\n",
    "        gc = line.count('G') + line.count('C')\n",
    "        gc_p=round(gc*100/len(line),2) #make it percentage, make it look pretty with round()\n",
    "        gc_content[key] = gc_p\n",
    "        #print the results to a string\n",
    "        write_str = \"Seq #\"+ str(key) + \" Seq: \" + line + \" Number of GC: \" + str(gc) +\" Sequence Length: \"+ str(len(line)) \\\n",
    "        + \" GC Content: \" + str(gc_p) + \"\\n\"\n",
    "        #print the string to a file\n",
    "        fh.write(write_str)"
   ]
  },
  {
   "cell_type": "markdown",
   "metadata": {},
   "source": [
    "Check the \"seq_details.txt\" file - we just calculated the GC content of 250 sequences.\n",
    "\n",
    "However, this is not really useful yet because there are 250 numbers and we don't have a sense of what the data is telling us. A histogram may be more useful. There is a direct histogram function we will discuss later, but here will do it from scratch. This is an example of how powerful coding can be - writing code to (insert your favorite analysis) from scratch!\n",
    "\n",
    "### How to make a histogram? \n",
    "\n",
    "Wikipedia says: \"To construct a histogram, the first step is to \"bin\" (or \"bucket\") the range of values—that is, divide the entire range of values into a series of intervals—and then count how many values fall into each interval. The bins are usually specified as consecutive, non-overlapping intervals of a variable. The bins (intervals) must be adjacent, and are often (but not required to be) of equal size.\"\n",
    "\n",
    "#### How to bin data?  \n",
    "\n",
    "The idea is to put an interval of numbers into the midpoint like this:\n",
    "\n",
    "1 2 3 4 5 6 7 8 9 10,11,12...\n",
    "\n",
    "If we group these numbers by 4:\n",
    "\n",
    "(1,2,3,4) (5,6,7,8) (9,10,11,12)\n",
    "\n",
    "The midpoints are:\n",
    "\n",
    "2.5, 6.5, 10.5\n",
    "\n",
    "If we group the same numbers by 5:\n",
    "\n",
    "(1,2,3,4,5) (6,7,8,9,10) (11,12,13,14,15)\n",
    "\n",
    "The midpoints are:\n",
    "3, 8, 13\n",
    "\n",
    "#### How do we generalize this in our code? \n",
    "By combining `int()` and `round()`. I came up with the formula below by trial and error. I am sure you can come up with your own and even do better."
   ]
  },
  {
   "cell_type": "code",
   "execution_count": null,
   "metadata": {},
   "outputs": [],
   "source": [
    "bin_size = 5\n",
    "fact = (bin_size/2)-0.5\n",
    "print(\"i bin\")\n",
    "for i in range(1,21,1):\n",
    "    #bin1 = int( round( ((i-0.5)/bin_size + 0.5),0))*bin_size\n",
    "    #bin1 = int( round((i/bin_size),0))*bin_size\n",
    "    bin1 = int( round(( (i-0.5)/bin_size + 0.5),0))*bin_size - fact\n",
    "    print(i,bin1)"
   ]
  },
  {
   "cell_type": "markdown",
   "metadata": {},
   "source": [
    "Ok, we can assign a \"bin\" to any number. Now we need to count the numbers in each bin. We will put these counts in a dictionary called `hist`, where the keys are the bins and values are the counts."
   ]
  },
  {
   "cell_type": "code",
   "execution_count": null,
   "metadata": {},
   "outputs": [],
   "source": [
    "hist = {}\n",
    "\n",
    "bin_size = 5\n",
    "fact = (bin_size/2)-0.5\n",
    "\n",
    "for i in range(1,21,1):\n",
    "    bin1 = int( round(( (i-0.5)/bin_size + 0.5),0))*bin_size - fact\n",
    "    #if the bin exists, add to it\n",
    "    if bin1 in hist:\n",
    "        hist[bin1] += 1\n",
    "    #if bin doesn't exist, add to it\n",
    "    else:\n",
    "        hist[bin1] = 1\n",
    "\n",
    "#let us now print the histogram\n",
    "for i in sorted(hist):\n",
    "    print(i,hist[i])"
   ]
  },
  {
   "cell_type": "markdown",
   "metadata": {},
   "source": [
    "Ok, let us do the same with our `gc_content` dictionary. The keys of `gc_content` are sequence numbers and the values are the corresponding GC content in percentage"
   ]
  },
  {
   "cell_type": "code",
   "execution_count": null,
   "metadata": {},
   "outputs": [],
   "source": [
    "#let us assume bin size of 5 percent\n",
    "bin_size = 2\n",
    "fact = (bin_size/2)-0.5\n",
    "\n",
    "#let us write the histogram into a file called \"GC_hist.txt\"\n",
    "fh = open(\"GC_hist.txt\",\"w\")\n",
    "\n",
    "hist = {} #declare the histogram\n",
    "\n",
    "for i in gc_content:\n",
    "    bin1 = int( round(( (gc_content[i]-0.5)/bin_size + 0.5),0))*bin_size - fact\n",
    "    if bin1 in hist:\n",
    "        hist[bin1] += 1\n",
    "    else:\n",
    "        hist[bin1] = 1\n",
    "for i in sorted(hist):\n",
    "    hist[i]=hist[i]*100/len(gc_content)\n",
    "    write_str =str(i) + \" \" + str(hist[i]) + \"\\n\"\n",
    "    fh.write(write_str)\n",
    "fh.close()"
   ]
  },
  {
   "cell_type": "markdown",
   "metadata": {},
   "source": [
    "Would be nice if we could see a plot. I don't know how to make a simple plot in Jupyter, so I just googled and found this link: https://matplotlib.org/gallery/lines_bars_and_markers/simple_plot.html"
   ]
  },
  {
   "cell_type": "code",
   "execution_count": null,
   "metadata": {},
   "outputs": [],
   "source": [
    "import matplotlib\n",
    "import matplotlib.pyplot as plt\n",
    "import numpy as np\n",
    "\n",
    "yt = []\n",
    "\n",
    "x = np.asarray(sorted(hist))\n",
    "for i in sorted(hist):\n",
    "    yt.append(hist[i])\n",
    "y = np.asarray(yt)\n",
    "\n",
    "fig, ax = plt.subplots()\n",
    "ax.plot(x, y)\n",
    "\n",
    "ax.set(xlabel='GC%', ylabel='% of sequences')\n",
    "\n",
    "plt.show()\n",
    "\n",
    "fig.savefig(\"test.png\")"
   ]
  }
 ],
 "metadata": {
  "anaconda-cloud": {},
  "kernelspec": {
   "display_name": "Python 3",
   "language": "python",
   "name": "python3"
  },
  "language_info": {
   "codemirror_mode": {
    "name": "ipython",
    "version": 3
   },
   "file_extension": ".py",
   "mimetype": "text/x-python",
   "name": "python",
   "nbconvert_exporter": "python",
   "pygments_lexer": "ipython3",
   "version": "3.7.3"
  }
 },
 "nbformat": 4,
 "nbformat_minor": 1
}
