{
 "cells": [
  {
   "cell_type": "markdown",
   "metadata": {},
   "source": [
    "## <font color = 'red'> Assignment 2 <font color>\n",
    "\n",
    "Complete the exercises below in the empty code block associated with each exercise."
   ]
  },
  {
   "cell_type": "markdown",
   "metadata": {},
   "source": [
    "### Exercise 1\n",
    "\n",
    "Consider the following list.  It's nasty.\n",
    "\n",
    "    mylist = [{'Colorado' : 'Denver', 'New Mexico' : 'Santa Fe', 'Kansas' : 'Topeka'},\n",
    "    100,\n",
    "    200,\n",
    "    300,\n",
    "    ['hat', 'tshirt', 'jeans', {'socks1': 'red', 'socks2' : 'blue'}]]\n",
    "    \n",
    "Print the following items:\n",
    "1.  200\n",
    "2.  The dictionary of cities and states.\n",
    "3.  The list of clothes.\n",
    "4.  The word 'Santa Fe'.\n",
    "5.  The word 'jeans'.\n",
    "6.  The word 'blue'."
   ]
  },
  {
   "cell_type": "code",
   "execution_count": null,
   "metadata": {},
   "outputs": [],
   "source": [
    "### PUT YOUR CODE HERE\n",
    "\n"
   ]
  },
  {
   "cell_type": "markdown",
   "metadata": {},
   "source": [
    "### Exercise 2\n",
    "\n",
    "Consider the following list:\n",
    "\n",
    "    ['Arg', 'Trp', 'Met', 'Ile', 'Thr', 'Leu', 'Ser', 'Cys', 'Gly', 'Tyr', 'Val', 'His', 'Glu', 'Pro',\n",
    "    'Lys', 'Ala', 'Asp', 'Phe', 'Gln', 'Asn']\n",
    "    \n",
    "Print a version of this list that has been sorted in alphabetical order.\n",
    "\n",
    "Print a version of this list that has been reverse-sorted in alphabetical order.\n",
    "\n",
    "After sorting the list in alphabetical order, print every other item."
   ]
  },
  {
   "cell_type": "code",
   "execution_count": null,
   "metadata": {},
   "outputs": [],
   "source": [
    "#PUT YOUR CODE HERE\n",
    "\n",
    "aminoacids = ['Arg', 'Trp', 'Met', 'Ile', 'Thr', 'Leu', 'Ser', 'Cys', 'Gly', 'Tyr', 'Val', 'His', 'Glu', 'Pro', \n",
    "              'Lys', 'Ala', 'Asp', 'Phe', 'Gln', 'Asn']\n"
   ]
  },
  {
   "cell_type": "markdown",
   "metadata": {},
   "source": [
    "### Exercise 3\n",
    "\n",
    "Make a dictionary that tells you of the chemical properties of each amino acid.  Here are their properties:\n",
    "\n",
    "Aliphatic:  Ala, Gly, Iso, Leu, Pro, Val\n",
    "Aromatic:  Phe, Trp, Tyr\n",
    "Acidic: Asp, Glu\n",
    "Basic: Arg, His, Lys\n",
    "Hydroxyl: Ser, Thr\n",
    "Sulfur: Cys, Met\n",
    "Amide: Asn, Gln\n",
    "\n",
    "The dictionary should have the following structure:\n",
    "\n",
    "{ChemProperty1 : [List of amino acids], ChemProperty2 : [List of amino acids], ...}"
   ]
  },
  {
   "cell_type": "code",
   "execution_count": null,
   "metadata": {},
   "outputs": [],
   "source": [
    "#PUT YOUR CODE HERE\n",
    "\n",
    "\n"
   ]
  },
  {
   "cell_type": "markdown",
   "metadata": {},
   "source": [
    "### Exercise 4\n",
    "\n",
    "Given the following dictionary:\n",
    "\n",
    "inventory = {\n",
    "    'gold' : 500,\n",
    "    'pouch' : ['flint', 'twine', 'gemstone'],\n",
    "    'backpack' : ['xylophone','dagger', 'bedroll','bread loaf']\n",
    "}\n",
    "\n",
    "Perform the following:\n",
    "\n",
    "1.  Add a key to inventory called 'pocket'.\n",
    "2.  Set the value of 'pocket' to be a list consisting of the strings 'seashell', 'strange berry', and 'lint'.\n",
    "3.  Sort the items in the list stored under the 'backpack' key.\n",
    "4.  Remove 'dagger' from the list of items stored under the 'backpack' key.\n",
    "5.  Add 50 to the number stored under the 'gold' key."
   ]
  },
  {
   "cell_type": "code",
   "execution_count": null,
   "metadata": {},
   "outputs": [],
   "source": [
    "#PUT YOUR CODE HERE\n",
    "\n",
    "inventory = {\n",
    "    'gold' : 500,\n",
    "    'pouch' : ['flint', 'twine', 'gemstone'],\n",
    "    'backpack' : ['xylophone','dagger', 'bedroll','bread loaf']\n",
    "}"
   ]
  }
 ],
 "metadata": {
  "kernelspec": {
   "display_name": "Python 3",
   "language": "python",
   "name": "python3"
  },
  "language_info": {
   "codemirror_mode": {
    "name": "ipython",
    "version": 3
   },
   "file_extension": ".py",
   "mimetype": "text/x-python",
   "name": "python",
   "nbconvert_exporter": "python",
   "pygments_lexer": "ipython3",
   "version": "3.7.3"
  }
 },
 "nbformat": 4,
 "nbformat_minor": 2
}
