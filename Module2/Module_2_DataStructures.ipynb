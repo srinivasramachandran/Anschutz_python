{
 "cells": [
  {
   "cell_type": "markdown",
   "metadata": {},
   "source": [
    "# Data structures\n",
    "\n",
    "We have learned the different datatypes that we will be dealing with (e.g. strings, integers, floats, variables, etc.).  Most of the analyses we will want to perform will be applied to <i>groups</i> of these items.  For example, we might have a bunch of genes (strings), and we might want to look through that bunch of genes (let's call it a <u>list</u> of genes) and ask which have names that start with the letter Q.  OK, we will probably want to do something more interesting than that, but you get the idea.  If we are going to do this, we need to have the gene names organized into some sort of structure.  That's what this lesson is about.  Containers are objects that can be used to group other objects together.\n",
    "\n",
    "Generally, for each container type, you need to be aware of three different properties:\n",
    "- <font color=red>**Mutability.**</font>  Mutable objects can be modified after creation.  Immutable objects cannot.\n",
    "- <font color=red>**Stability of ordering.**</font>  For some objects, the order in which items were added to the container is preserved. For others, it is not, and for all intents and purposes these objects have no inherent order.\n",
    "- <font color=red>**Indexing.**</font>  Indexing allows you to go in to a container and retrieve an object based on an given identifier. For some container types, this can be an integer (I want the <i>n</i>th item in the container **remember that python uses 0-based indexing!!**). Obviously, this approach is only valid if the container is ordered.  Other container types allow indexing with specific \"keys\" (more on that later)."
   ]
  },
  {
   "cell_type": "markdown",
   "metadata": {},
   "source": [
    "## Container types\n",
    "\n",
    "The basic container types include:\n",
    "\n",
    "- **`str`** (string: immutable, indexed by integers, items are stored in the order they were added)\n",
    "  - `'RNALOCALIZATION'`\n",
    "    - Wait hold on a minute...didn't we just learn that strings are a datatype of letters or numbers?  Well, yes, but what is a word other than a group of letters?  It's a container for those letters that can be thought of just like any other container.\n",
    "\n",
    "- **`list`** (list: mutable; indexed by integers; items are stored in the order they were added)\n",
    "  - `[3, 5, '6', 3, 'dog', 'cat', False]`\n",
    "\n",
    "- **`tuple`** (tuple: immutable; indexed by integers; items are stored in the order they were added)\n",
    "  - `(3, 5, '6', 3, 'dog', 'cat', False)`\n",
    "  \n",
    "- **`set`** (set: mutable; not indexed at all; items are NOT stored in the order they were added; can only contain immutable objects; does NOT contain duplicate objects)\n",
    "  - `{3, 5, '6', 'dog', 'cat', False}`\n",
    "  \n",
    "- **`dict`** (dictionary: mutable; key-value pairs are indexed by immutable keys; items are NOT stored in the order they were added)\n",
    "  - `{'name': 'Srinivas', 'floor': 9, 'fav_things': ['uracil', '2primehydroxyls', 'polyAtails']}`\n",
    "  \n",
    "When defining lists, tuples, or sets, use commas (,) to separate the individual items. When defining dicts, use a colon (:) to separate keys from values and commas (,) to separate the key-value pairs.\n",
    "\n",
    "OK so now that we've seen what these container types are, let's go through a couple of them in a little more detail.\n"
   ]
  },
  {
   "cell_type": "markdown",
   "metadata": {},
   "source": [
    "## Lists\n",
    "\n",
    "Lists are pretty much what they sound like.  They are lists of....stuff.  Essentially any data type can go in a list, and multiple data types can be contained within the same list.  They are mutable (meaning they can be changed), they maintain their order when created, and can be indexed with integers.  Syntactically, their defining feature is that they are bounded by square brackets ('[' and ']'). \n",
    "\n",
    "Lets make a list."
   ]
  },
  {
   "cell_type": "code",
   "execution_count": null,
   "metadata": {},
   "outputs": [],
   "source": [
    "fruits = ['banana', 'orange', 'apple', 'kiwi']"
   ]
  },
  {
   "cell_type": "markdown",
   "metadata": {},
   "source": [
    "OK great. Now what?  Well, let's say I wanted to retreive the 3rd item in my list of fruits here.  Importantly, because lists maintain their order, asking for the 3rd item has meaning.  If they didn't what would the 3rd item even be?  We can ask for the 3rd item because each item has an *index* associated with it. For lists, these are integers.  Remember that Python uses a <u>0-based counting system</u>.  So to get the third item, we want the item that has the index 2 by giving a *subscript*."
   ]
  },
  {
   "cell_type": "code",
   "execution_count": null,
   "metadata": {},
   "outputs": [],
   "source": [
    "fruits[2]"
   ]
  },
  {
   "cell_type": "markdown",
   "metadata": {},
   "source": [
    "Nice!  What about the first item?"
   ]
  },
  {
   "cell_type": "code",
   "execution_count": null,
   "metadata": {},
   "outputs": [],
   "source": [
    "fruits[0]"
   ]
  },
  {
   "cell_type": "markdown",
   "metadata": {},
   "source": [
    "This is bananas!  OK, what about the last item?  Well, of course we could just ask for the item with the index 3.  But pretend we didn't know how long the list was.  Python has you covered.  The last item has an index of -1.  The second to last item has the index -2.  And so on and so on and so on."
   ]
  },
  {
   "cell_type": "code",
   "execution_count": null,
   "metadata": {},
   "outputs": [],
   "source": [
    "fruits[-1]"
   ]
  },
  {
   "cell_type": "markdown",
   "metadata": {},
   "source": [
    "Can we change the contents of a list? Yes! Why? Because a list is **mutable**.  "
   ]
  },
  {
   "cell_type": "code",
   "execution_count": null,
   "metadata": {},
   "outputs": [],
   "source": [
    "#Change the third item of the list to 'grape'\n",
    "fruits[2] = 'grape'\n",
    "\n",
    "fruits"
   ]
  },
  {
   "cell_type": "markdown",
   "metadata": {},
   "source": [
    "## Slicing lists\n",
    "We've seen how to select specific items from lists with indices. What about selecting a range of items or a subset of a list? The syntax for this is very similar to selecting individual items:\n",
    "\n",
    "listname[startindex:endindex]\n",
    "\n",
    "This will \"slice\" a list giving us the items with indices between startindex and endindex. Now, for a slight mathematical aside:\n",
    "  - The interval defined by the integers between startindex and endindex is \"half-open\". This means that the interval includes the startindex, but only includes everything *up to* the endindex *without* the endindex itself. In interval notation, this would be defined as [startindex, endindex).  Trust me, this is useful, but we don't have time here to talk about the reasons why.  Let's try an example:\n"
   ]
  },
  {
   "cell_type": "code",
   "execution_count": null,
   "metadata": {},
   "outputs": [],
   "source": [
    "#fruits[0:2] will return fruits[0] and fruits[1] but **not** fruits[2]\n",
    "fruits[0:2]"
   ]
  },
  {
   "cell_type": "code",
   "execution_count": null,
   "metadata": {},
   "outputs": [],
   "source": [
    "#What if you wanted everything from fruits[1] until the end?  Leaving endindex blank is shorthand for this.\n",
    "fruits[1:]"
   ]
  },
  {
   "cell_type": "code",
   "execution_count": null,
   "metadata": {},
   "outputs": [],
   "source": [
    "#Similarly, asking for everything from the beginning of the list up to an index can be done by leaving startindex blank\n",
    "fruits[:2]"
   ]
  },
  {
   "cell_type": "code",
   "execution_count": null,
   "metadata": {},
   "outputs": [],
   "source": [
    "#What happens if you leave both startindex and endindex blank? You return the whole list, of course!\n",
    "fruits[:]"
   ]
  },
  {
   "cell_type": "markdown",
   "metadata": {},
   "source": [
    "### Returning every nth item\n",
    "\n",
    "Up to now we've been asking for items from the list in the order that they exist within the list. What if we wanted every other item? Or every third item? There's actually an additional parameter to the slicing index that covers this.\n",
    "\n",
    "listname[startindex:endindex:stepsize]\n",
    "\n",
    "If step size is not given, it's assumed to be 1.  That's what we've done so far.\n",
    "\n",
    "If we wanted every other item, the step size is 2."
   ]
  },
  {
   "cell_type": "code",
   "execution_count": null,
   "metadata": {},
   "outputs": [],
   "source": [
    "#Give me the entire list, starting with the first item, but only every other item\n",
    "fruits[::2]"
   ]
  },
  {
   "cell_type": "code",
   "execution_count": null,
   "metadata": {},
   "outputs": [],
   "source": [
    "#Now the entire list, starting with the second item, but only every other item\n",
    "fruits[1::2]"
   ]
  },
  {
   "cell_type": "markdown",
   "metadata": {},
   "source": [
    "### Reversing a list\n",
    "\n",
    "What about reversing the order of the items in the list?  There are a few ways to do this, but we will talk about only one of them here.\n",
    "\n",
    "We will use the list method <font color = red>.reverse()</font>.  This modifies the list *in place*. What does that mean?  That means that if you called for the list again, the place in memory where it is stored has been changed to store the reversed list, so it will return the reversed list."
   ]
  },
  {
   "cell_type": "code",
   "execution_count": null,
   "metadata": {},
   "outputs": [],
   "source": [
    "#print the list so we know what it looks like\n",
    "print(fruits)\n",
    "\n",
    "#This modifies the list in place so that when you ask for it again...\n",
    "fruits.reverse()\n",
    "#you get back the reversed list\n",
    "print(fruits)\n",
    "\n",
    "#redefine the list in its original order\n",
    "fruits.reverse()\n",
    "print(fruits)\n",
    "\n",
    "print(fruits)\n",
    "print(fruits[::-1])\n",
    "print(fruits)"
   ]
  },
  {
   "cell_type": "markdown",
   "metadata": {},
   "source": [
    "### Splitting a string to create a list\n",
    "\n",
    "Suppose you had a string.  A sentence, perhaps.  You might want to break that string up into it's individual componenets (words) and store the words in a list.  This can be done with the string method <font color = 'red'> **.split**() </font>.\n",
    "\n",
    "The character between the parentheses in the <font color = 'red'> **.split**() </font> call will serve as the *delimiter*.  Every time this delimiter is seen, the string will be broken here, and a new item in the list will be created.  By default, if nothing is specified as the delimiter, then it is set as 'whitespace'.  This will be split the string at essentially any non-text character.  Common delimiters are commas (','), newlines ('\\n') and tabs ('\\t')."
   ]
  },
  {
   "cell_type": "code",
   "execution_count": null,
   "metadata": {},
   "outputs": [],
   "source": [
    "mystring = 'THIS IS MY STRING. IT IS A VERY GOOD STRING.'\n",
    "#Split my string into a list, with every word being a single item in the list.\n",
    "#Here, the most explicit delimiter to use would be a single space (' ').\n",
    "mystringaslist = mystring.split(' ')\n",
    "print(mystringaslist)\n",
    "\n",
    "#Suppose we wanted to split by sentences. Here, a good delimiter to use would be a period ('.')\n",
    "mystringaslist = mystring.split('.')\n",
    "print(mystringaslist)\n",
    "\n",
    "#Why is there an empty item at the end? Because there was a period at the end.\n",
    "#That gets split into what's before it (stuff) and what's after it (nothing).\n",
    "#What if we wanted to chop off the last item in the list?\n",
    "mystringaslist = mystring.split('.')[:-1]\n",
    "print(mystringaslist)\n",
    "\n",
    "print(mystring)\n",
    "print(mystring.split(''))"
   ]
  },
  {
   "cell_type": "markdown",
   "metadata": {},
   "source": [
    "### Joining lists to create a string.\n",
    "\n",
    "The opposite of splitting a string to create a list is joining a list to create a string.  This is done with the <font color = 'red'> **join** </font> method.  Now, what goes in the parentheses is what you want to separate each item in the list when it is joined together."
   ]
  },
  {
   "cell_type": "code",
   "execution_count": null,
   "metadata": {},
   "outputs": [],
   "source": [
    "mylist = ['THIS', 'IS', 'MY', 'LIST.', 'IT', 'IS', 'A', 'VERY', 'GOOD', 'LIST.']\n",
    "#Join this list to create a string. \n",
    "#Each item in the list is a word, so it might make sense to join with a space in between each item\n",
    "mystring = (' ').join(mylist)\n",
    "print(mystring)"
   ]
  },
  {
   "cell_type": "markdown",
   "metadata": {},
   "source": [
    "### Nested lists\n",
    "\n",
    "So far every list that we've dealt with has been composed purely of strings.  This of course does not have to be true.  Lists can be comprised of any type of mixture of strings, integers, booleans, and even other lists themselves!  In fact, they can be comprised of any other type of container!  You can have a list, a list of lists, a list of list of lists...and so on.\n",
    "\n",
    "So how do we index items in a list that is within another list?  Nested indexing!\n",
    "\n"
   ]
  },
  {
   "cell_type": "code",
   "execution_count": null,
   "metadata": {},
   "outputs": [],
   "source": [
    "#let's redefine fruits, putting all citrus fruits together in their own sublist\n",
    "fruits = ['apple', 'grape', 'kiwi', ['orange', 'lemon', 'lime']]\n",
    "\n",
    "#How do I get orange?  It's in the fourth item in the outermost list (index 3) and it's the first item (index 0) in the nested list\n",
    "fruits[3][0]"
   ]
  },
  {
   "cell_type": "code",
   "execution_count": null,
   "metadata": {},
   "outputs": [],
   "source": [
    "#What if I asked for the fourth item (index 3) within the first item of the list (index 0, apple)?\n",
    "#Does that even make sense?\n",
    "#Yes!  Why?  Because strings are **iterables** just like lists are.\n",
    "fruits[0][3]"
   ]
  },
  {
   "cell_type": "code",
   "execution_count": null,
   "metadata": {},
   "outputs": [],
   "source": [
    "#OK what if I ask for an index item within something that is not iterable (like an integer for example)?\n",
    "#Well, that's an error.  You can't do that.  It doesn't make sense to do that.\n",
    "randomstuff = ['apple', 1, True, ['DNA', 'RNA', 'protein']]\n",
    "randomstuff[1][2]\n"
   ]
  },
  {
   "cell_type": "markdown",
   "metadata": {},
   "source": [
    "### Getting properties of lists\n",
    "\n",
    "Lists have many inherent properties that we may like to know.  These can be accessed using various built-in functions.\n",
    "\n",
    "- **len()**\n",
    "  - Return the length (number of items) in the list.  Returns an integer.\n",
    "- **max()**\n",
    "  - Return the largest item in the list.  For numeric items, this is the largest number.  For text items, this is the last item when the items are sorted alphabetically.\n",
    "- **min()**\n",
    "  - Return the smallest item in the list.  For numeric items, this is the smallest number.  For text items, this is the first item when the items are sorted alphabetically.\n",
    "- **sorted()**\n",
    "  - Return a sorted version of the list.  This **does not** happen in place and the list itself is unaffected.  Numeric values are sorted lowest to highest and text values are sorted alphabetically.\n",
    "- **sum()**\n",
    "  - Return the sum of all items in a list.  Only valid if all items are numeric.\n"
   ]
  },
  {
   "cell_type": "code",
   "execution_count": null,
   "metadata": {},
   "outputs": [],
   "source": [
    "fruits = ['apple', 'orange', 'grape', 'banana']\n",
    "readcounts = [43, 21, 239, 783, 12, 633]\n",
    "\n",
    "#Get lengths of both lists.\n",
    "print(len(fruits))\n",
    "print(len(readcounts))\n",
    "\n",
    "#Get max of lists\n",
    "print(max(fruits))\n",
    "print(max(readcounts))\n",
    "\n",
    "#Get mins\n",
    "print(min(fruits))\n",
    "print(min(readcounts))\n",
    "\n",
    "#Get sorted versions of the lists\n",
    "print(sorted(fruits))\n",
    "print(sorted(readcounts))\n",
    "\n",
    "#Importantly, the lists themselves are unaffected and still unsorted!  Verify this.\n",
    "print(fruits)\n",
    "print(readcounts)\n",
    "\n",
    "#Get sum of read counts\n",
    "print(sum(readcounts))\n",
    "\n",
    "newlist = [4, 3, 6, 7, 2, 9, 9, 1]\n",
    "print(max(newlist))"
   ]
  },
  {
   "cell_type": "markdown",
   "metadata": {},
   "source": [
    "### Adding items to lists\n",
    "\n",
    "So far we have just directly defined lists by typing a bunch of fruits.  What if we wanted to dynamically add items to a list?\n",
    "\n",
    "This can be done with the <font color = 'red'>.append</font> method. Append adds an item to the *end* of the list.\n",
    "\n",
    "Merging two lists can be done with the <font color = 'red'>.extend</font> method."
   ]
  },
  {
   "cell_type": "code",
   "execution_count": null,
   "metadata": {},
   "outputs": [],
   "source": [
    "#Our friends, the fruits\n",
    "fruits = ['apple', 'orange', 'grape', 'banana']\n",
    "print(fruits)\n",
    "\n",
    "#But wait!  Tomatoes are fruits too!\n",
    "fruits.append('tomato')\n",
    "print(fruits)\n",
    "\n",
    "string1 = 'ABC'\n",
    "string2 = 'DEF'\n",
    "\n",
    "string3 = string1 + 'anything' + string2"
   ]
  },
  {
   "cell_type": "code",
   "execution_count": null,
   "metadata": {},
   "outputs": [],
   "source": [
    "fruits = ['apple', 'orange', 'grape', 'banana']\n",
    "alsofruits = ['lime', 'mango', 'blueberry', 'watermelon']\n",
    "\n",
    "fruits.append(alsofruits)\n",
    "\n",
    "print(fruits)"
   ]
  },
  {
   "cell_type": "markdown",
   "metadata": {},
   "source": [
    "### Removing items from lists\n",
    "\n",
    "To remove an item from a list, use the <font color = 'red'>remove()</font> function. It modifies the list *in place*.  Importantly, it only removes the *first instance* of that item within the list.\n",
    "\n",
    ">Note: the del function and .pop() methods will also delete items from list but are different from remove() in their functionalities. We will not cover them here, but you are encouraged to look them up."
   ]
  },
  {
   "cell_type": "code",
   "execution_count": null,
   "metadata": {},
   "outputs": [],
   "source": [
    "fruits = ['apple', 'orange', 'grape', 'banana']\n",
    "print(fruits)\n",
    "fruits.remove('grape') # I only want fruits that grow on trees\n",
    "print(fruits)"
   ]
  },
  {
   "cell_type": "markdown",
   "metadata": {},
   "source": [
    "### Evaluating membership in a list\n",
    "\n",
    "Asking if an item is a member of a list can be done with the <font color = 'red'>in</font> statement.  It evaluates to True if the item is in the list and False if the item is not."
   ]
  },
  {
   "cell_type": "code",
   "execution_count": null,
   "metadata": {},
   "outputs": [],
   "source": [
    "fruits = ['apples', 'oranges', 'grapes', 'bananas']\n",
    "print('oranges' in fruits)\n",
    "print('zucchinis' in fruits or 'zookinis' in fruits)"
   ]
  },
  {
   "cell_type": "markdown",
   "metadata": {},
   "source": [
    "## Tuples\n",
    "\n",
    "Tuples are a lot like lists.  Except in the ways that they are not.  Tuples are like lists in that they are collections of items that have a defined order.  That means it makes sense to pick out individual items using subscripts (or indicies).\n",
    "\n",
    "    mylist[2] #third item of the list\n",
    "\n",
    "    mytuple[2] #third item of the tuple\n",
    "    \n",
    "However, unlike lists they are **not mutable**.  This means you can't change any item of the tuple, or even add to it.  Just as lists are defined by square brackets, tuples are defined by parentheses.\n"
   ]
  },
  {
   "cell_type": "code",
   "execution_count": null,
   "metadata": {},
   "outputs": [],
   "source": [
    "fruitlist = ['apple', 'orange', 'grape', 'banana']\n",
    "fruittuple = ('apple', 'orange', 'grape', 'banana')"
   ]
  },
  {
   "cell_type": "code",
   "execution_count": null,
   "metadata": {},
   "outputs": [],
   "source": [
    "#This will work\n",
    "thirdfruit = fruitlist[2]\n",
    "print(thirdfruit)\n",
    "\n",
    "#This will also work\n",
    "thirdfruit = fruittuple[2]\n",
    "print(thirdfruit)"
   ]
  },
  {
   "cell_type": "code",
   "execution_count": null,
   "metadata": {},
   "outputs": [],
   "source": [
    "#This will work\n",
    "fruitlist[1] = 'papaya'\n",
    "print(fruitlist)\n",
    "\n",
    "#This will not work because tuples are not mutable\n",
    "fruittuple[1] = 'papaya'"
   ]
  },
  {
   "cell_type": "code",
   "execution_count": null,
   "metadata": {},
   "outputs": [],
   "source": [
    "#This will work\n",
    "fruitlist.append('kiwi')\n",
    "print(fruitlist)\n",
    "\n",
    "#This will not work because tuples are not mutable\n",
    "fruittuple.append('kiwi')"
   ]
  },
  {
   "cell_type": "code",
   "execution_count": null,
   "metadata": {},
   "outputs": [],
   "source": [
    "#To add to a tuple, you have to make a new tuple that combines the old tuple with the items to be added\n",
    "\n",
    "newfruittuple = fruittuple + ('kiwi', 'strawberry')\n",
    "print(newfruittuple)"
   ]
  },
  {
   "cell_type": "markdown",
   "metadata": {},
   "source": [
    "## Sets\n",
    "\n",
    "Sets are also like lists.  Kind of.  They are mutable, just like lists.  However, they have **no inherent order**.  Also, they cannot contain duplicate items.  In this sense, they are like the mathematical definition of a set.\n",
    "\n",
    "Sets are defined by enclosing a set of values in set([]).\n",
    "\n",
    "    myset = set([1,2,3,4,5])\n",
    "    \n",
    "Single items can be added to sets using the **.add** method.\n",
    "\n",
    "    myset.add(6)"
   ]
  },
  {
   "cell_type": "code",
   "execution_count": null,
   "metadata": {},
   "outputs": [],
   "source": [
    "fruitlist = ['apple', 'orange', 'grape', 'banana']\n",
    "fruitset = set(['apple', 'orange', 'grape', 'banana'])\n",
    "\n",
    "#This will work\n",
    "fruitlist[2]\n",
    "#This will not work because sets don't have orders\n",
    "fruitset[2]"
   ]
  },
  {
   "cell_type": "markdown",
   "metadata": {},
   "source": [
    "So what good are sets?  Well I'm glad you asked!  First, since they cannot contain duplicates, they represent an easy way to remove all duplicate items from a list (or tuple).\n",
    "\n",
    "    mylist = [1,2,3,3,4,5]  #contains duplicates\n",
    "    myset = set(mylist)  #remove duplicates, but now it's a set\n",
    "    mylist = list(myset)  #turn back into a list\n",
    "    \n",
    "Secondly, since sets are unordered and cannot contain duplicates, it is very fast to check for membership within them.  You can use this to your advantage to write speedy code.\n",
    "    "
   ]
  },
  {
   "cell_type": "code",
   "execution_count": null,
   "metadata": {},
   "outputs": [],
   "source": [
    "fruitlist = ['apple', 'orange', 'grape', 'banana']\n",
    "fruitset = set(['apple', 'orange', 'grape', 'banana'])\n",
    "\n",
    "\n",
    "#This is relatively slow\n",
    "print('orange' in fruitlist)\n",
    "print('kiwi' in fruitlist)\n",
    "\n",
    "#This is much faster\n",
    "print('orange' in fruitset)\n",
    "print('kiwi' in fruitset)\n",
    "\n",
    "#You wont see a difference when there are only four items in the iterable \n",
    "#but if there were tens of thousands (say you had a list of all genes) then you would!"
   ]
  },
  {
   "cell_type": "markdown",
   "metadata": {},
   "source": [
    "## Dictionaries\n",
    "\n",
    "We've covered lists. Now we will move to another type of container that we will cover in this course, dictionaries.  What is a dictionary, you ask?  Well, I think you already know the answer.  If you pick up a dictionary what's inside?  Words, followed by their definitions.  This is essentially what a dictionary container is in Python.\n",
    "\n",
    "Dictionaries contain key:value pairs.  There can be many keys within a dictionary, each of which is linked to its corresponding value.  Dicitonaries are defined by curly-brace ('{' and '}') bookends.  Within dictionaries, keys and their corresponding values are separated by colons, and key:value pairs are separated by commas."
   ]
  },
  {
   "cell_type": "code",
   "execution_count": null,
   "metadata": {},
   "outputs": [],
   "source": [
    "#Let's make our first dictionary\n",
    "\n",
    "instructor = {'name' : 'Srinivas', 'floor' : 9, 'fav_things' : ['uracil', '2primehydroxyls', 'polyAtails']}"
   ]
  },
  {
   "cell_type": "markdown",
   "metadata": {},
   "source": [
    "So you can see here that each of our keys (the strings 'name', 'floor', and 'fav_things') each has a corresponding value ('Srinivas', 9, and ['uracil', '2primehydroxyls', 'polyAtails']).  This illustrates an important point.  Keys **and** values in dictionaries can be anything! Strings, integers, floats, lists, and even other dictionaries!"
   ]
  },
  {
   "cell_type": "markdown",
   "metadata": {},
   "source": [
    "### Retrieving values from dictionaries\n",
    "\n",
    "So if we have stored data in this way, at some point we will probably want to retrieve it.  If we have a given key, we may want to know what the value is for that key.  This can be done with the <font color = 'red'>.get()</font> method."
   ]
  },
  {
   "cell_type": "code",
   "execution_count": null,
   "metadata": {},
   "outputs": [],
   "source": [
    "instructor = {'name' : 'Srinivas', 'floor' : 9, 'fav_things' : ['uracil', '2primehydroxyls', 'polyAtails']}\n",
    "\n",
    "#What is the instructor's name?\n",
    "print(instructor.get('name'))\n",
    "\n",
    "#What floor is his office on?\n",
    "print(instructor.get('floor'))\n",
    "\n",
    "#What is his second favorite thing?\n",
    "print(instructor.get('fav_things')[1])"
   ]
  },
  {
   "cell_type": "markdown",
   "metadata": {},
   "source": [
    "### Adding key:value pairs to a dictionary\n",
    "\n",
    "Adding a key:value pair to the dictionary can be done with the following syntax: dict[key] = value"
   ]
  },
  {
   "cell_type": "code",
   "execution_count": null,
   "metadata": {},
   "outputs": [],
   "source": [
    "instructor = {'name' : 'Srinivas', 'floor' : 9, 'fav_things' : ['uracil', '2primehydroxyls', 'polyAtails']}\n",
    "\n",
    "#Let's add a new attribute for our instructor\n",
    "instructor['has_beard'] = True\n",
    "\n",
    "print(instructor)\n"
   ]
  },
  {
   "cell_type": "markdown",
   "metadata": {},
   "source": [
    "### Updating values in the dictionary\n",
    "\n",
    "Updating values is done with the same syntax as adding a new value.  If the key you are \"adding\" already exists, it will overwrite the value."
   ]
  },
  {
   "cell_type": "code",
   "execution_count": null,
   "metadata": {},
   "outputs": [],
   "source": [
    "#Wait, Srinivas does have a beard.  Let's update that.\n",
    "instructor['has_beard'] = False\n",
    "\n",
    "#Also, he told me that actually his third favorite thing is introns, not polyAtails.\n",
    "instructor['fav_things'][2] = 'introns'\n",
    "\n",
    "instructor['fav_things'].append('DNase')\n",
    "\n",
    "print(instructor)"
   ]
  },
  {
   "cell_type": "markdown",
   "metadata": {},
   "source": [
    "### Removing values from the dictionary\n",
    "\n",
    "Values can be removed from a dictionary using the <font color = 'red'>.pop()</font> method."
   ]
  },
  {
   "cell_type": "code",
   "execution_count": null,
   "metadata": {},
   "outputs": [],
   "source": [
    "#We don't really care if he has a beard or not.\n",
    "instructor.pop('has_beard')\n",
    "\n",
    "print(instructor)"
   ]
  },
  {
   "cell_type": "markdown",
   "metadata": {},
   "source": [
    "### Getting all the keys or all the values from a dictionary\n",
    "\n",
    "A list (ok not really a list, but something close) of all the keys in a dictionary or all the values in a dictionary can be returned with the <font color = 'red'> .keys()</font> and the <font color = 'red'>.values()</font> methods, respectively."
   ]
  },
  {
   "cell_type": "code",
   "execution_count": null,
   "metadata": {},
   "outputs": [],
   "source": [
    "#Get all keys\n",
    "\n",
    "keys = list(instructor.keys())\n",
    "print(keys)\n",
    "\n",
    "values = list(instructor.values())\n",
    "print(values)"
   ]
  },
  {
   "cell_type": "markdown",
   "metadata": {},
   "source": [
    "## Combining container types\n",
    "\n",
    "Everything we've learned so far can be combined (as if it wasn't confusing enough already).  For example, we can have lists of lists of lists.  Or lists of dictionaries of lists.  Or dictionaries of dictionaries of lists of dictionaries of lists of tuples of sets.  For the love of all that is holy, please keep your code readable and don't have dictionaries that run 5 levels deep.  But still, it's possible.\n"
   ]
  },
  {
   "cell_type": "code",
   "execution_count": null,
   "metadata": {},
   "outputs": [],
   "source": [
    "#One dictionary\n",
    "instructor1 = {'name': 'Srinivas', 'floor': 9, 'fav_things': ['uracil', '2primehydroxyls', 'introns'], 'has_beard': True}\n",
    "\n",
    "#Another dictionary\n",
    "instructor2 = {'name': 'Matt', 'floor': 10, 'fav_things': ['pie', 'cake', 'cookies'], 'has_beard': False}\n",
    "\n",
    "#Combine the dictionaries into a list\n",
    "instructors = [instructor1, instructor2]\n",
    "\n",
    "print(instructors)\n",
    "\n",
    "print(instructors[0].get('fav_things')[0])"
   ]
  }
 ],
 "metadata": {
  "kernelspec": {
   "display_name": "Python 3",
   "language": "python",
   "name": "python3"
  },
  "language_info": {
   "codemirror_mode": {
    "name": "ipython",
    "version": 3
   },
   "file_extension": ".py",
   "mimetype": "text/x-python",
   "name": "python",
   "nbconvert_exporter": "python",
   "pygments_lexer": "ipython3",
   "version": "3.7.3"
  }
 },
 "nbformat": 4,
 "nbformat_minor": 2
}
