{
 "cells": [
  {
   "cell_type": "markdown",
   "metadata": {},
   "source": [
    "# Module 1\n",
    "\n",
    "## Topics:\n",
    " - Data Types\n",
    " - Operators\n",
    " - Variables\n",
    " - Boolean\n",
    " - Conditional statements"
   ]
  },
  {
   "cell_type": "markdown",
   "metadata": {},
   "source": [
    "### First command: print\n",
    "print() - put anything you want to print inside the brackets"
   ]
  },
  {
   "cell_type": "code",
   "execution_count": null,
   "metadata": {},
   "outputs": [],
   "source": [
    "print(\"Hello world!\")"
   ]
  },
  {
   "cell_type": "markdown",
   "metadata": {},
   "source": [
    "How do I print quotes?\n",
    "### Some \"escape sequences\"\n",
    "- \\\" – double quote\n",
    "- \\\\ – single backslash\n",
    "- \\n – newline\n",
    "- \\s – space\n",
    "- \\t – tab"
   ]
  },
  {
   "cell_type": "code",
   "execution_count": null,
   "metadata": {},
   "outputs": [],
   "source": [
    "print(\"This is how I will print \\\"Double quotes\\\". Let us add another line while we are at it:\\nHere\")"
   ]
  },
  {
   "cell_type": "code",
   "execution_count": null,
   "metadata": {},
   "outputs": [],
   "source": [
    "print(\"Tab\\tnicely\\taligns\\ntext\\tin\\torder\")"
   ]
  },
  {
   "cell_type": "code",
   "execution_count": null,
   "metadata": {},
   "outputs": [],
   "source": [
    "print(\"Protein_AXYZ1C ATPQRSTAG\\nProtein_B ATYFGHIKLP\\n\\n\")\n",
    "print(\"Protein_AXYZ1C\\tATPQRSTAG\\nProtein_B\\tATYFGHIKLP\")"
   ]
  },
  {
   "cell_type": "markdown",
   "metadata": {},
   "source": [
    "## Data types in python\n",
    "\n",
    "- Number \n",
    "- String\n",
    "- List - Module 2\n",
    "- Tuple - Module 2\n",
    "- Dictionary - Module 2\n",
    "\n",
    "## Numbers in python\n",
    "- Integer\n",
    "- Long (We won't use them)\n",
    "- Float - decimal number\n",
    "- Complex (We won't use them)\n",
    "\n",
    "### Second command: type()"
   ]
  },
  {
   "cell_type": "code",
   "execution_count": null,
   "metadata": {},
   "outputs": [],
   "source": [
    "type(1.0)"
   ]
  },
  {
   "cell_type": "code",
   "execution_count": null,
   "metadata": {},
   "outputs": [],
   "source": [
    "type(1)"
   ]
  },
  {
   "cell_type": "markdown",
   "metadata": {},
   "source": [
    "### Strings\n",
    "\n",
    "String is just a set of characters enclosed by quotation marks. We can manipulate strings in many ways with python that is powerful and very useful in a variety of contexts. \n",
    "\n",
    "Each character in a string has an index. Consider the string \"A Test String\":<br>\n",
    "Character  Index<br>\n",
    "\"A\"         0<br>\n",
    "\" \"         1<br>\n",
    "\"T\"         2<br>\n",
    "\"E\"         3<br>\n",
    "\"S\"         4<br>\n",
    "\"T\"         5<br>\n",
    "\" \"         6<br>\n",
    "\"S\"         7<br>\n",
    "\"t\"         8<br>\n",
    "\"r\"         9<br>\n",
    "\"i\"         10<br>\n",
    "\"n\"         11<br>\n",
    "\"g\"         12<br>\n",
    "\n",
    "#### Strings are very important datatype for our purposes. Why?"
   ]
  },
  {
   "cell_type": "code",
   "execution_count": null,
   "metadata": {},
   "outputs": [],
   "source": [
    "type(\"This is a string\")"
   ]
  },
  {
   "cell_type": "markdown",
   "metadata": {},
   "source": [
    "### Operators\n",
    "- Addition: +\n",
    "- Subtraction: -\n",
    "- Division: /\n",
    "- Multiplication: \\*\n",
    "- Exponentiation: \\**"
   ]
  },
  {
   "cell_type": "code",
   "execution_count": null,
   "metadata": {},
   "outputs": [],
   "source": [
    "1+1"
   ]
  },
  {
   "cell_type": "code",
   "execution_count": null,
   "metadata": {},
   "outputs": [],
   "source": [
    "6+8-2"
   ]
  },
  {
   "cell_type": "code",
   "execution_count": null,
   "metadata": {},
   "outputs": [],
   "source": [
    "2*3"
   ]
  },
  {
   "cell_type": "code",
   "execution_count": null,
   "metadata": {},
   "outputs": [],
   "source": [
    "2*(3+2)"
   ]
  },
  {
   "cell_type": "code",
   "execution_count": null,
   "metadata": {},
   "outputs": [],
   "source": [
    "5/2"
   ]
  },
  {
   "cell_type": "markdown",
   "metadata": {},
   "source": [
    "- Dividing any two integers produces float\n",
    "- Running an operation on two floats or on a float and an integer also produces a float\n",
    "### Try it yourself!"
   ]
  },
  {
   "cell_type": "markdown",
   "metadata": {},
   "source": [
    "### Negative numbers"
   ]
  },
  {
   "cell_type": "code",
   "execution_count": null,
   "metadata": {},
   "outputs": [],
   "source": [
    "-7 #Negative number"
   ]
  },
  {
   "cell_type": "code",
   "execution_count": null,
   "metadata": {},
   "outputs": [],
   "source": [
    "(-5+2)*-3 #Operations on negative numbers"
   ]
  },
  {
   "cell_type": "markdown",
   "metadata": {},
   "source": [
    "### Exponentiation\n",
    "5 to the power 2 ($5^{2}$)"
   ]
  },
  {
   "cell_type": "code",
   "execution_count": null,
   "metadata": {},
   "outputs": [],
   "source": [
    "5**2"
   ]
  },
  {
   "cell_type": "markdown",
   "metadata": {},
   "source": [
    "$16^{(1/2)}$"
   ]
  },
  {
   "cell_type": "code",
   "execution_count": null,
   "metadata": {},
   "outputs": [],
   "source": [
    "16**(1/2)"
   ]
  },
  {
   "cell_type": "markdown",
   "metadata": {},
   "source": [
    "$5^{-1}$"
   ]
  },
  {
   "cell_type": "code",
   "execution_count": null,
   "metadata": {},
   "outputs": [],
   "source": [
    "5**(-1)"
   ]
  },
  {
   "cell_type": "markdown",
   "metadata": {},
   "source": [
    "### What happens when you divide by zero? Try it!"
   ]
  },
  {
   "cell_type": "markdown",
   "metadata": {},
   "source": [
    "Below are examples of running an operation inside the print command"
   ]
  },
  {
   "cell_type": "code",
   "execution_count": null,
   "metadata": {},
   "outputs": [],
   "source": [
    "print(\"Addition: 1 + 2 =\",1+2)\n",
    "print(\"Subtraction: 2 - 1 =\",2-1)\n",
    "print(\"Division: 10/3 =\",10/3) \n",
    "print(\"Multiplication: 10*3 =\",10*3)\n",
    "print(\"Exponentiation: 5**2 =\",5**2)\n",
    "print(\"Exponentiation: 4**0.5 =\",4**0.5)\n",
    "print(\"Exponentiation: 4**-1 =\",4**-1)"
   ]
  },
  {
   "cell_type": "markdown",
   "metadata": {},
   "source": [
    "### Quotient and Remainder\n",
    "- // - Floor division - Quotient\n",
    "- % - Modulo operator - Remainder"
   ]
  },
  {
   "cell_type": "code",
   "execution_count": null,
   "metadata": {},
   "outputs": [],
   "source": [
    "5//2"
   ]
  },
  {
   "cell_type": "code",
   "execution_count": null,
   "metadata": {},
   "outputs": [],
   "source": [
    "5%2"
   ]
  },
  {
   "cell_type": "markdown",
   "metadata": {},
   "source": [
    "Operators work on strings too, giving us non-intuitive results:"
   ]
  },
  {
   "cell_type": "code",
   "execution_count": null,
   "metadata": {},
   "outputs": [],
   "source": [
    "\"what \" + \"will \" + \"happen?\""
   ]
  },
  {
   "cell_type": "code",
   "execution_count": null,
   "metadata": {},
   "outputs": [],
   "source": [
    "print(\"5\"*3)\n",
    "print(5*3)"
   ]
  },
  {
   "cell_type": "code",
   "execution_count": null,
   "metadata": {},
   "outputs": [],
   "source": [
    "\"5\"**2"
   ]
  },
  {
   "cell_type": "code",
   "execution_count": null,
   "metadata": {},
   "outputs": [],
   "source": [
    "\"5\"/2"
   ]
  },
  {
   "cell_type": "code",
   "execution_count": null,
   "metadata": {},
   "outputs": [],
   "source": [
    "\"The Class\" - \"The\""
   ]
  },
  {
   "cell_type": "markdown",
   "metadata": {},
   "source": [
    "### Assigning/changing data type\n",
    "\n",
    "By default, python looks at the number and assigns a type. You can also specify the type explicitly."
   ]
  },
  {
   "cell_type": "code",
   "execution_count": null,
   "metadata": {},
   "outputs": [],
   "source": [
    "print(1)\n",
    "print(float(1))"
   ]
  },
  {
   "cell_type": "code",
   "execution_count": null,
   "metadata": {},
   "outputs": [],
   "source": [
    "\"2\"+\"3\""
   ]
  },
  {
   "cell_type": "code",
   "execution_count": null,
   "metadata": {},
   "outputs": [],
   "source": [
    "int(\"2\") + int(\"3\")"
   ]
  },
  {
   "cell_type": "markdown",
   "metadata": {},
   "source": [
    "With strings?"
   ]
  },
  {
   "cell_type": "code",
   "execution_count": null,
   "metadata": {},
   "outputs": [],
   "source": [
    "int(\"what\")"
   ]
  },
  {
   "cell_type": "markdown",
   "metadata": {},
   "source": [
    "## Variables\n",
    "\n",
    "A variable allows you to store a value by assigning it to a name, which can be used to refer to the value later in the program.\n",
    "\n",
    "- A variable is a bucket or a basket. A bucket can hold things - what it holds depends on what we put in it - it can be toys for example. It is useful to put things in a bucket for specific operations, like taking the toys from one place to another. Or for washing the toys under the tap. Similarly, a variable can hold data in memory and allows a program to perform operations on the data. \n",
    "\n",
    "- Another way to think of a variable is that we can do the same operations many times by using variables, which will become clear when we discuss loops in module 3.\n",
    "\n",
    "- Only characters allowed for a variable name are letters, numbers, and underscores. They can't start with numbers. (Try this)\n",
    "\n",
    "\n",
    "\n",
    "First, we can assign values to variables. Consider the variables a_number, another_number, and a_phrase :"
   ]
  },
  {
   "cell_type": "code",
   "execution_count": null,
   "metadata": {},
   "outputs": [],
   "source": [
    "a_number = 2 # integer\n",
    "another_number = 4 # integer\n",
    "a_phrase = \"I am learning python\" # string"
   ]
  },
  {
   "cell_type": "markdown",
   "metadata": {},
   "source": [
    "How can we know what is in a variable? Just type the variable name:"
   ]
  },
  {
   "cell_type": "code",
   "execution_count": null,
   "metadata": {},
   "outputs": [],
   "source": [
    "a_number"
   ]
  },
  {
   "cell_type": "markdown",
   "metadata": {},
   "source": [
    "What if we haven't assigned any value to a variable? Consider the new variable not_assigned :"
   ]
  },
  {
   "cell_type": "code",
   "execution_count": null,
   "metadata": {},
   "outputs": [],
   "source": [
    "not_assigned"
   ]
  },
  {
   "cell_type": "markdown",
   "metadata": {},
   "source": [
    "python doesn't know what not_assigned is (becuase we didn't assign or \"declare\" the variable) so it throws a fit. Let us try again:"
   ]
  },
  {
   "cell_type": "code",
   "execution_count": null,
   "metadata": {},
   "outputs": [],
   "source": [
    "not_assigned = 'I will assign variables before using them'\n",
    "not_assigned"
   ]
  },
  {
   "cell_type": "markdown",
   "metadata": {},
   "source": [
    "You may have noticed by now that we assigned both numbers and text to variables - how do we think about these variables? We think about them as \"what data type does the variable contain?\", which we can find using the type() function:"
   ]
  },
  {
   "cell_type": "code",
   "execution_count": null,
   "metadata": {},
   "outputs": [],
   "source": [
    "print(type(a_number))\n",
    "print(type(another_number))\n",
    "print(type(a_phrase))\n",
    "print(type(not_assigned))"
   ]
  },
  {
   "cell_type": "code",
   "execution_count": null,
   "metadata": {},
   "outputs": [],
   "source": [
    "is_it_a_float = 10.0\n",
    "type(is_it_a_float)"
   ]
  },
  {
   "cell_type": "code",
   "execution_count": null,
   "metadata": {},
   "outputs": [],
   "source": [
    "is_it_a_float = 10\n",
    "type(is_it_a_float)"
   ]
  },
  {
   "cell_type": "code",
   "execution_count": null,
   "metadata": {},
   "outputs": [],
   "source": [
    "it_is_a_float = float(is_it_a_float) #assigning type\n",
    "it_is_a_float"
   ]
  },
  {
   "cell_type": "code",
   "execution_count": null,
   "metadata": {},
   "outputs": [],
   "source": [
    "type(it_is_a_float)"
   ]
  },
  {
   "cell_type": "markdown",
   "metadata": {},
   "source": [
    "A string variable is just a list of characters. Each character gets an index starting at 0, which is indicated inside a [ ]."
   ]
  },
  {
   "cell_type": "code",
   "execution_count": null,
   "metadata": {},
   "outputs": [],
   "source": [
    "a_string = \"Bunch of Characters\"\n",
    "print(a_string[1])"
   ]
  },
  {
   "cell_type": "markdown",
   "metadata": {},
   "source": [
    "Colon (:) lets you access a range of indices of a string:"
   ]
  },
  {
   "cell_type": "code",
   "execution_count": null,
   "metadata": {},
   "outputs": [],
   "source": [
    "print(a_string[0:3])"
   ]
  },
  {
   "cell_type": "markdown",
   "metadata": {},
   "source": [
    "Colon(:) without a number after it means till the end of the string."
   ]
  },
  {
   "cell_type": "code",
   "execution_count": null,
   "metadata": {},
   "outputs": [],
   "source": [
    "print(a_string[5:])"
   ]
  },
  {
   "cell_type": "markdown",
   "metadata": {},
   "source": [
    "Colon(:) without a number preceding it means from the beginning of the string."
   ]
  },
  {
   "cell_type": "code",
   "execution_count": null,
   "metadata": {},
   "outputs": [],
   "source": [
    "print(a_string[:5])"
   ]
  },
  {
   "cell_type": "markdown",
   "metadata": {},
   "source": [
    "#### String concatenation"
   ]
  },
  {
   "cell_type": "code",
   "execution_count": null,
   "metadata": {},
   "outputs": [],
   "source": [
    "second_string = \" in a movie\"\n",
    "sentence = a_string + second_string\n",
    "sentence"
   ]
  },
  {
   "cell_type": "code",
   "execution_count": null,
   "metadata": {},
   "outputs": [],
   "source": [
    "a = \"5\"\n",
    "b = \"4\"\n",
    "a * 2 + b*5"
   ]
  },
  {
   "cell_type": "markdown",
   "metadata": {},
   "source": [
    "### In-Place Operators save typing!"
   ]
  },
  {
   "cell_type": "code",
   "execution_count": null,
   "metadata": {},
   "outputs": [],
   "source": [
    "x=5\n",
    "x+=2 #instead of x = x + 2\n",
    "print(x)"
   ]
  },
  {
   "cell_type": "code",
   "execution_count": null,
   "metadata": {},
   "outputs": [],
   "source": [
    "x*=2\n",
    "print(x)"
   ]
  },
  {
   "cell_type": "code",
   "execution_count": null,
   "metadata": {},
   "outputs": [],
   "source": [
    "x/=2\n",
    "print(x)"
   ]
  },
  {
   "cell_type": "code",
   "execution_count": null,
   "metadata": {},
   "outputs": [],
   "source": [
    "x**=2\n",
    "print(x)"
   ]
  },
  {
   "cell_type": "markdown",
   "metadata": {},
   "source": [
    "#### Can use in-place operators on strings too (Try it!)"
   ]
  },
  {
   "cell_type": "markdown",
   "metadata": {},
   "source": [
    "### Some useful math functions similar to operators:\n",
    "- round()\n",
    "- abs()\n",
    "With math module:\n",
    "- pi - value of the constant pi\n",
    "- https://docs.python.org/2/library/math.html"
   ]
  },
  {
   "cell_type": "code",
   "execution_count": null,
   "metadata": {},
   "outputs": [],
   "source": [
    "import math"
   ]
  },
  {
   "cell_type": "code",
   "execution_count": null,
   "metadata": {},
   "outputs": [],
   "source": [
    "print(math.pi)\n",
    "print(abs(-1.2))\n",
    "print(round(1.2))\n",
    "print(round(1.23232,2))"
   ]
  },
  {
   "cell_type": "markdown",
   "metadata": {},
   "source": [
    "### Booleans and Comparisons\n",
    "\n",
    "Next type: Boolean. Boolean can take two values: True and False.\n",
    "1. We can directly assign a boolean value to a variable\n",
    "2. Boolean can be the output to a \"question\""
   ]
  },
  {
   "cell_type": "code",
   "execution_count": null,
   "metadata": {},
   "outputs": [],
   "source": [
    "a_boolean = True\n",
    "a_boolean"
   ]
  },
  {
   "cell_type": "code",
   "execution_count": null,
   "metadata": {},
   "outputs": [],
   "source": [
    "2==3 ## == means \"equals\""
   ]
  },
  {
   "cell_type": "code",
   "execution_count": null,
   "metadata": {},
   "outputs": [],
   "source": [
    "(25**2) == (5**4)"
   ]
  },
  {
   "cell_type": "code",
   "execution_count": null,
   "metadata": {},
   "outputs": [],
   "source": [
    "1024 != (2**10) ## != means \"not equals\""
   ]
  },
  {
   "cell_type": "code",
   "execution_count": null,
   "metadata": {},
   "outputs": [],
   "source": [
    "\"Red\" != \"Green\""
   ]
  },
  {
   "cell_type": "code",
   "execution_count": null,
   "metadata": {},
   "outputs": [],
   "source": [
    "(10**10) > (11**9) ## greater than "
   ]
  },
  {
   "cell_type": "code",
   "execution_count": null,
   "metadata": {},
   "outputs": [],
   "source": [
    "5251 < 25 ## less than "
   ]
  },
  {
   "cell_type": "code",
   "execution_count": null,
   "metadata": {},
   "outputs": [],
   "source": [
    "5<=10 ## less than or equal to"
   ]
  },
  {
   "cell_type": "code",
   "execution_count": null,
   "metadata": {},
   "outputs": [],
   "source": [
    "10>=10.0 ## greater than or equal to"
   ]
  },
  {
   "cell_type": "markdown",
   "metadata": {},
   "source": [
    "### Be very careful not to confuse \"=\" (assignment) with \"==\" (comparison)"
   ]
  },
  {
   "cell_type": "markdown",
   "metadata": {},
   "source": [
    "### Conditional Statements\n",
    "\n",
    "\"if\" statement used to test conditions. Now, we start using more than one level of code, bringing us to indentation, a very important feature of python. When your code has multiple levels (\"nesting\" or think of Russian dolls), each level has to be indented. For example:\n",
    "\n",
    "Level 1\n",
    "> Level 2\n",
    ">> Level 3\n",
    "\n",
    "Here is how an if statement works:\n",
    "\n",
    "if expression:\n",
    "> statements"
   ]
  },
  {
   "cell_type": "code",
   "execution_count": null,
   "metadata": {},
   "outputs": [],
   "source": [
    "if 10>2:\n",
    "    print(\"10 is greater than 2\")\n",
    "print(\"program end\")"
   ]
  },
  {
   "cell_type": "markdown",
   "metadata": {},
   "source": [
    "### Nested if statements:\n",
    "What if you want to ask if a number is divisible by 2 and 3?"
   ]
  },
  {
   "cell_type": "code",
   "execution_count": null,
   "metadata": {},
   "outputs": [],
   "source": [
    "x=12\n",
    "if (x%2)==0:\n",
    "    print(\"Divisible by 2\")\n",
    "    if (x%3)==0:\n",
    "        print(\"Divisible by 2 and 3\")"
   ]
  },
  {
   "cell_type": "markdown",
   "metadata": {},
   "source": [
    "### \"else\" statement\n",
    "An \"else\" statement follows an \"if\" statement and is executed when the \"if\" statement is false. This is useful when you have two outcomes."
   ]
  },
  {
   "cell_type": "code",
   "execution_count": null,
   "metadata": {},
   "outputs": [],
   "source": [
    "weather = \"sunny\"\n",
    "if weather == \"rainy\":\n",
    "    print(\"take umbrella\")\n",
    "else:\n",
    "    print(\"apply sunscreen\")"
   ]
  },
  {
   "cell_type": "markdown",
   "metadata": {},
   "source": [
    "### \"elif\" statement\n",
    "When you have more than one condition to test."
   ]
  },
  {
   "cell_type": "code",
   "execution_count": null,
   "metadata": {},
   "outputs": [],
   "source": [
    "weather = \"snowy\"\n",
    "if weather == \"rainy\":\n",
    "    rint(\"take umbrella\")\n",
    "elif weather == \"sunny\":\n",
    "    print(\"apply sunscreen\")\n",
    "elif weather == \"snowy\":\n",
    "    print(\"take winter jacket\")\n",
    "else:\n",
    "    print(\"have fun\")"
   ]
  },
  {
   "cell_type": "markdown",
   "metadata": {},
   "source": [
    "### Boolean logic\n",
    "- and - both statements are true --> returns true\n",
    "- or - either statement is true --> returns true\n",
    "- not - only one statement that is false --> returns true"
   ]
  },
  {
   "cell_type": "code",
   "execution_count": null,
   "metadata": {},
   "outputs": [],
   "source": [
    "x = 10\n",
    "if (x>5) and (x<12):\n",
    "    print(\"x is a number between 5 and 12\")\n",
    "    \n",
    "birthyear = 1992\n",
    "if (birthyear < 1980) or (birthyear>2000):\n",
    "    print(\"Not a millenial\")\n",
    "else:\n",
    "    print(\"Is a millenial\")\n",
    "    \n",
    "x = 5\n",
    "if not (type(x) == str):\n",
    "    print(\"Not a string\")\n",
    "    \n",
    "type(x)"
   ]
  },
  {
   "cell_type": "markdown",
   "metadata": {},
   "source": [
    "### Combining boolean operators"
   ]
  },
  {
   "cell_type": "code",
   "execution_count": null,
   "metadata": {},
   "outputs": [],
   "source": [
    "molecule_type = \"DNA\" #change this to RNA or Protein\n",
    "resolution = 1\n",
    "size = 10\n",
    "\n",
    "if ( (molecule_type == \"DNA\") or (molecule_type == \"Protein\")) and (resolution < 2) and (not (size < 25) ):\n",
    "    print(\"Selected for further analysis\")\n",
    "else:\n",
    "    print(\"Not selected\")"
   ]
  }
 ],
 "metadata": {
  "anaconda-cloud": {},
  "kernelspec": {
   "display_name": "Python 3",
   "language": "python",
   "name": "python3"
  },
  "language_info": {
   "codemirror_mode": {
    "name": "ipython",
    "version": 3
   },
   "file_extension": ".py",
   "mimetype": "text/x-python",
   "name": "python",
   "nbconvert_exporter": "python",
   "pygments_lexer": "ipython3",
   "version": "3.7.3"
  }
 },
 "nbformat": 4,
 "nbformat_minor": 1
}
