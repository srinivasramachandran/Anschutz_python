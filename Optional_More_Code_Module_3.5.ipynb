{
 "cells": [
  {
   "cell_type": "markdown",
   "metadata": {},
   "source": [
    "### Optional : Another real life example:\n",
    "\n",
    "#### Let us assume that each paired-end read we obtain from a sequencing experiment is in a bed file. We want to convert the reads into a genome browser track.\n",
    "\n",
    "A bed file has the following format (https://genome.ucsc.edu/FAQ/FAQformat.html#format1):<br>\n",
    "\n",
    "`chromosome    (start-1)    end    blah    blah    Strand`\n",
    "\n",
    "Let us break it down into columns:\n",
    " - First Column: Chromosome\n",
    " - Second Column: (Start position - 1)\n",
    " - Third Column: End position\n",
    " - Fourth Column: Name\n",
    " - Fifth Column: Score\n",
    " - Sixth Column: Strand\n",
    " \n",
    "In this example, we will ignore strand. For making a browser track, here is our strategy:\n",
    "\n",
    "`123456789`<br>\n",
    "`----_____`<br>\n",
    "`___----__`<br>\n",
    "`_____----`<br>\n",
    "`______---`<br>\n",
    "`______---`<br>\n",
    "`111212433`<br>"
   ]
  },
  {
   "cell_type": "code",
   "execution_count": null,
   "metadata": {},
   "outputs": [],
   "source": [
    "read = {} #this will be the dictionary for our analysis\n",
    "# Here is the dictionary structure:\n",
    "# First level will be chromosome\n",
    "# Second level will be genomic coordinate\n",
    "\n",
    "bed_file = open('80mM_Ctl_sub.bed', 'r' ) #Open the bed file\n",
    "for line in bed_file: # Iterate through the fastq file\n",
    "    line=line.rstrip() #get that pesky newline out\n",
    "    \n",
    "    #let us read in column values#####\n",
    "    cols = line.split()\n",
    "    chrom=cols[0].replace('chr','') #remove the pesky \"chr\" character from chromosome field\n",
    "    st = int(cols[1])+1\n",
    "    en = int(cols[2])\n",
    "    ##########################\n",
    "    \n",
    "    read.setdefault(chrom,{}) #when reading a file, we haven't assigned any chromosome keys in our dictionary.\n",
    "                              #setdefault makes a key if it doesn't exist\n",
    "    #Fill in the reads here\n",
    "    for i in range(st,en):\n",
    "        read[chrom].setdefault(i,0)\n",
    "        read[chrom][i]+=1\n",
    "    \n",
    "    #write the reads to a file\n",
    "    fh = open(\"read_density.txt\",\"w\")\n",
    "    for i in read:\n",
    "        for j in sorted(read[i]):\n",
    "            txt = str(i) + \"\\t\" + str(j-1) + \"\\t\" + str(j)+\"\\t\"+ str(read[i][j]) + \"\\n\"\n",
    "            fh.write(txt)\n",
    "    fh.close()"
   ]
  },
  {
   "cell_type": "markdown",
   "metadata": {},
   "source": [
    "How does the track look? Let us try to plot it (we have a small region in this example)"
   ]
  },
  {
   "cell_type": "code",
   "execution_count": null,
   "metadata": {},
   "outputs": [],
   "source": [
    "import matplotlib\n",
    "import matplotlib.pyplot as plt\n",
    "import numpy as np\n",
    "\n",
    "yt = []\n",
    "\n",
    "x = np.asarray(sorted(read['2L']))\n",
    "x = x - 21163511\n",
    "for i in sorted(read['2L']):\n",
    "    yt.append(read['2L'][i])\n",
    "y = np.asarray(yt)\n",
    "\n",
    "fig, ax = plt.subplots()\n",
    "ax.plot(x, y)\n",
    "\n",
    "ax.set(xlabel='Position', ylabel='Read Density')\n",
    "\n",
    "plt.show()"
   ]
  },
  {
   "cell_type": "markdown",
   "metadata": {},
   "source": [
    "This is all fragment sizes. Can we get only nucleosomal size (134-160 bp), and transcription factor size (<50 bp)?"
   ]
  },
  {
   "cell_type": "code",
   "execution_count": null,
   "metadata": {},
   "outputs": [],
   "source": [
    "read_nuc = {} #this will be the dictionary for nucleosomes\n",
    "read_tf  = {} #this will be the dictionary for transcription factors\n",
    "\n",
    "# Here is the dictionary structure:\n",
    "# First level will be chromosome\n",
    "# Second level will be genomic coordinate\n",
    "\n",
    "bed_file = open('80mM_Ctl_sub.bed', 'r' ) #Open the bed file\n",
    "for line in bed_file: # Iterate through the fastq file\n",
    "    line=line.rstrip() #get that pesky newline out\n",
    "    \n",
    "    #let us read in column values#####\n",
    "    cols = line.split()\n",
    "    chrom=cols[0].replace('chr','') #remove the pesky \"chr\" character from chromosome field\n",
    "    st = int(cols[1])+1\n",
    "    en = int(cols[2])\n",
    "    fragment_length = en - st + 1\n",
    "    \n",
    "    ##########################\n",
    "    \n",
    "    #Fill in the reads here\n",
    "    if(fragment_length <=50):\n",
    "        for i in range(st,en):\n",
    "            read_tf.setdefault(chrom,{})\n",
    "            read_tf[chrom].setdefault(i,0)\n",
    "            read_tf[chrom][i]+=1\n",
    "    elif(fragment_length >=134 and fragment_length <= 160):    \n",
    "        for i in range(st,en):\n",
    "            read_nuc.setdefault(chrom,{})\n",
    "            read_nuc[chrom].setdefault(i,0)\n",
    "            read_nuc[chrom][i]+=1"
   ]
  },
  {
   "cell_type": "code",
   "execution_count": null,
   "metadata": {},
   "outputs": [],
   "source": [
    "yt = []\n",
    "\n",
    "x1 = np.asarray(sorted(read_nuc['2L']))\n",
    "for i in sorted(read_nuc['2L']):\n",
    "    yt.append(read_nuc['2L'][i])\n",
    "y1 = np.asarray(yt)\n",
    "\n",
    "yt = []\n",
    "\n",
    "x2 = np.asarray(sorted(read_tf['2L']))\n",
    "for i in sorted(read_tf['2L']):\n",
    "    yt.append(read_tf['2L'][i])\n",
    "y2 = np.asarray(yt)\n",
    "\n",
    "\n",
    "fig, ax = plt.subplots()\n",
    "ax.plot(x1, y1, color='black',label=\"Nucleosome\")\n",
    "\n",
    "ax.plot(x2, y2, color='red', label=\"TF\")\n",
    "\n",
    "ax.set(xlabel='Position', ylabel='Read Density')\n",
    "\n",
    "plt.legend()\n",
    "\n",
    "plt.show()"
   ]
  }
 ],
 "metadata": {
  "kernelspec": {
   "display_name": "Python 3",
   "language": "python",
   "name": "python3"
  },
  "language_info": {
   "codemirror_mode": {
    "name": "ipython",
    "version": 3
   },
   "file_extension": ".py",
   "mimetype": "text/x-python",
   "name": "python",
   "nbconvert_exporter": "python",
   "pygments_lexer": "ipython3",
   "version": "3.7.6"
  }
 },
 "nbformat": 4,
 "nbformat_minor": 2
}
