{
 "cells": [
  {
   "cell_type": "markdown",
   "metadata": {},
   "source": [
    "## Assignment 4\n",
    "\n",
    "A wig format is used for genome coverage of a dataset. The declaration line starts with the word variableStep and is followed by a specification for a chromosome. Ignore the optional span parameter for now. You have to write the code to read the \"80mM_Ctl_sub.wig\" file and then print out the coverage as follows:\n",
    "\n",
    "Chromosome Position Value"
   ]
  },
  {
   "cell_type": "code",
   "execution_count": null,
   "metadata": {},
   "outputs": [],
   "source": [
    "# write code here"
   ]
  },
  {
   "cell_type": "markdown",
   "metadata": {},
   "source": [
    "For the fastq file that we worked on, calculate the GC content at each position of the read. Here is a demo:\n",
    "\n",
    "`sequence 1: ATGCATGC\n",
    "sequence 2: GAGAGCTA`\n",
    "\n",
    "First position is 50% GC, second position is 0% GC and so on."
   ]
  },
  {
   "cell_type": "code",
   "execution_count": null,
   "metadata": {},
   "outputs": [],
   "source": [
    "# write code here"
   ]
  },
  {
   "cell_type": "markdown",
   "metadata": {},
   "source": [
    "Read a uniprot text file \"HistoneH3_Uniprot.txt\". Write code to extract just the subcellular localization and the amino acid sequence from the uniprot file."
   ]
  },
  {
   "cell_type": "code",
   "execution_count": null,
   "metadata": {},
   "outputs": [],
   "source": [
    "# write code here"
   ]
  },
  {
   "cell_type": "markdown",
   "metadata": {},
   "source": [
    "In the fasta file we worked with, calculate the net charge of the protein. The negatively charged residues are 'D' and  'E'. The output should look like (These are made up numbers):\n",
    "\n",
    "Sequence_name:HuR Net_charge:4 "
   ]
  },
  {
   "cell_type": "code",
   "execution_count": null,
   "metadata": {},
   "outputs": [],
   "source": [
    "# write code here"
   ]
  }
 ],
 "metadata": {
  "anaconda-cloud": {},
  "kernelspec": {
   "display_name": "Python 3",
   "language": "python",
   "name": "python3"
  },
  "language_info": {
   "codemirror_mode": {
    "name": "ipython",
    "version": 3
   },
   "file_extension": ".py",
   "mimetype": "text/x-python",
   "name": "python",
   "nbconvert_exporter": "python",
   "pygments_lexer": "ipython3",
   "version": "3.7.3"
  }
 },
 "nbformat": 4,
 "nbformat_minor": 1
}
