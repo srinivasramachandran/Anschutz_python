{
 "cells": [
  {
   "cell_type": "markdown",
   "metadata": {},
   "source": [
    "# Functions\n",
    "\n",
    "So far, in our adventures into data types, data structures, and file handling we've used Python's built-in functions as well as some added functionality from importing other packages.  For example, you may remember using these functions:\n",
    "\n",
    "- **len()**\n",
    "  - Return the length (number of items) in the list.  Returns an integer.\n",
    "- **max()**\n",
    "  - Return the largest item in the list.  For numeric items, this is the largest number.  For text items, this is the last item when the items are sorted alphabetically.\n",
    "- **min()**\n",
    "  - Return the smallest item in the list.  For numeric items, this is the smallest number.  For text items, this is the first item when the items are sorted alphabetically.\n",
    "- **sorted()**\n",
    "  - Return a sorted version of the list.  This **does not** happen in place and the list itself is unaffected.  Numeric values are sorted lowest to highest and text values are sorted alphabetically.\n",
    "- **sum()**\n",
    "  - Return the sum of all items in a list.  Only valid if all items are numeric.\n",
    "  \n",
    "- **range(start, stop)**\n",
    "  - Returns a list of all integers between start and stop (with half-open intervals!!)\n",
    "  \n",
    "A more complete list of Python's built-in functions can be found here: https://docs.python.org/3/library/functions.html\n",
    "\n",
    "It may be the case, however, that none of these functions may meet your specific need.  For example, there is no Python function called **analyzeRNAseqdata()**.  At least, not until you write it.  That's what we will cover here.  How to write (and use) your own, custom-built functions."
   ]
  },
  {
   "cell_type": "markdown",
   "metadata": {},
   "source": [
    "## Defining our own functions\n",
    "\n",
    "Defining functions is done with the following syntax:\n",
    "\n",
    "    def functionname(arguments):\n",
    "        maybe do something\n",
    "        maybe do something else\n",
    "        maybe return something\n",
    "        \n",
    "        \n",
    "There's a reason each line here starts with \"maybe.\"  It's because lines that perform actions aren't necessarily required in a function.  Similarly, returning the output of a function (done with the last line) isn't even required.  You don't even need arguments (these are the items that the function will use and operate on)!\n",
    "\n",
    "Let's start with perhaps one of the simplest possible functions."
   ]
  },
  {
   "cell_type": "code",
   "execution_count": null,
   "metadata": {},
   "outputs": [],
   "source": [
    "#Our first function\n",
    "\n",
    "#It has no arguments, so the area between the parentheses is blank.\n",
    "def sayhello():\n",
    "    print('Hello world!')\n",
    "    \n",
    "#OK now we've defined what the function is, so let's call it.\n",
    "sayhello()"
   ]
  },
  {
   "cell_type": "markdown",
   "metadata": {},
   "source": [
    "## Slightly more complicated functions\n",
    "\n",
    "OK nice, we've defined our function called sayhello.  Every time we call it by invoking sayhello(), it will print the string 'Hello world!'.  Pretty neat, and also pretty cheerful, but not super useful.  Let's write a function now that takes in an argument and does something with it.  Arguments, you'll recall, are items (they can be just about anything...) that the function recieves and often upon which the function performs actions."
   ]
  },
  {
   "cell_type": "code",
   "execution_count": null,
   "metadata": {},
   "outputs": [],
   "source": [
    "#Slightly more complicated\n",
    "\n",
    "def greeter(names, day):\n",
    "    for dog in names:\n",
    "        print('Well hello, {0}. It is {1}'.format(dog, day))\n",
    "    #print('Well hello, {0}.\\nIt is {1}.'.format(name, day))\n",
    "    #print('Well hello, ' + name + '.\\nIt is ' + str(day) + '.')\n",
    "    \n",
    "#Function is defined.  Let's call it. Remember, this function requires one argument.  It must be provided.\n",
    "\n",
    "names = ['Scooby', 'Shaggy']\n",
    "greeter(names, 'Wednesday')\n",
    "\n",
    "#variable = 'myvariable'\n",
    "#variable2 = 'mysecondvariable'\n",
    "#formattedstring = 'mystring{0}{1}'.format(variable, variable2)\n",
    "#print(formattedstring)"
   ]
  },
  {
   "cell_type": "markdown",
   "metadata": {},
   "source": [
    "## Returning the output of a function\n",
    "\n",
    "Most of the time, functions will return their output instead of simply printing something in the middle.  This is done using the **return** keyword at the end of the function."
   ]
  },
  {
   "cell_type": "code",
   "execution_count": null,
   "metadata": {},
   "outputs": [],
   "source": [
    "#A function to add two numeric quantities\n",
    "numbers = [1, 2,3, 2, 9, 2, 24, 10]\n",
    "def plus(a, b):\n",
    "    return a + b\n",
    "\n",
    "def sumoflist(mylist):\n",
    "    return sum(mylist)\n",
    "\n",
    "print(sum(numbers))\n",
    "print(sumoflist(numbers))\n",
    "\n",
    "#Simple enough, now call it\n",
    "mysum = plus(2, 3)\n",
    "print(mysum)"
   ]
  },
  {
   "cell_type": "code",
   "execution_count": null,
   "metadata": {},
   "outputs": [],
   "source": [
    "#Often it's good to write code that will catch your errors\n",
    "\n",
    "#We've learned that, in Python, you can \"add\" strings to combine them with the '+' operator.\n",
    "#However, adding strings and integers doesn't make sense.\n",
    "#So maybe we wan't to limit this function to only allowing addition in the mathematical sense.\n",
    "#That means only numeric things (integers and floats) can be added here.\n",
    "\n",
    "def plus(a, b):\n",
    "    #Check the type of a and b\n",
    "    #Notice the parentheses in the if statement\n",
    "    if (type(a) == int or type(a) == float) and (type(b) == int or type(b) == float):\n",
    "        return a + b\n",
    "    else:\n",
    "        return 'Both a and b must be numeric!'\n",
    "    \n",
    "mysum = plus(3, 4)\n",
    "print(mysum)\n",
    "mysum = plus('three', 4)\n",
    "print(mysum)"
   ]
  },
  {
   "cell_type": "markdown",
   "metadata": {},
   "source": [
    "## Documenting functions\n",
    "\n",
    "We've learned how to document code.  A line can be \"commented out\" by starting it with '#'.  Groups of lines can also be ignored by the compiler and left as plain English (or whatever it is you write) by surrounding them with triple quotes (''').  Generally it is a **GREAT** idea to document your code.  You will find that it is hard to remember exactly what you meant each line to do.  Imagine, then, try to figure out what *someone else's* code is trying to do when you are debugging it or expanding on it.  I believe it was Aristotle who said \"Hell is other people's code.\"\n",
    "\n",
    "**ALWAYS** insert comments on your code whereever you can.  For functions, inserting a small vignette about the purpose of the function and what it returns will save you time in the future."
   ]
  },
  {
   "cell_type": "code",
   "execution_count": null,
   "metadata": {},
   "outputs": [],
   "source": [
    "def plus(a, b):\n",
    "    '''\n",
    "    This function takes in two values, a and b, and evaluates if there are both either\n",
    "    integers or floats. If so, it adds them.  If not, it returns a message stating that it needs\n",
    "    integers or floats.\n",
    "    \n",
    "    Returns:\n",
    "    int or float if a and b are ints and/or floats\n",
    "    string if either a or b is not an int or float\n",
    "    '''\n",
    "    \n",
    "    #Check the type of a and b\n",
    "    #Notice the parentheses in the if statement\n",
    "    if (type(a) == int or type(a) == float) and (type(b) == int or type(b) == float):\n",
    "        return a + b\n",
    "    else:\n",
    "        return 'Both a and b must be numeric!'\n",
    "    \n",
    "mysum = plus(3, 4)\n",
    "print(mysum)\n",
    "mysum = plus('three', 4)\n",
    "print(mysum)"
   ]
  },
  {
   "cell_type": "markdown",
   "metadata": {},
   "source": [
    "## Scope of variables\n",
    "\n",
    "Up until now, we have generally assumed that a variable defined somewhere in our code is recognized throughout the script.  Once we start using functions, this is not true.  This has to do with the *scope* of the variable.\n",
    "\n",
    "Generally, variables that are defined *within* a function are only valid within that function.  They cannot be accessed outside of the function and are therefore *local* variables.  Those that are defined outside of functions are called *global* variables and can be accessed by any function within the script."
   ]
  },
  {
   "cell_type": "code",
   "execution_count": null,
   "metadata": {},
   "outputs": [],
   "source": [
    "initialx = 5\n",
    "\n",
    "#Make a function\n",
    "def double(x):\n",
    "    x = x*2\n",
    "    return x\n",
    "\n",
    "#initialx is a global variable\n",
    "print(initialx)\n",
    "\n",
    "#run the function on initialx\n",
    "double(initialx)\n",
    "\n",
    "#has initialx changed? No, it was only changed *inside* the function\n",
    "print(initialx)\n",
    "\n",
    "#Storing the output of the function shows us its effect\n",
    "doubledinitalx = double(initialx)\n",
    "print(doubledinitalx)\n",
    "\n",
    "#Can we access the variable x that is inside the function?  No.  We are outside of the function now.\n",
    "print(x)"
   ]
  },
  {
   "cell_type": "markdown",
   "metadata": {},
   "source": [
    "## The zip function\n",
    "\n",
    "Now that we've learned how to make our own functions, let's talk about four built-in functions that are often useful in genomic-style analyses.  The first is the <font color = 'red'>zip()</font> function.\n",
    "\n",
    "This function takes two iterables and combines them together into an *iterator*.  We don't have time to talk about what an iterator is or it's advantages.  For our purposes, just know that iterators can be converted to lists or dictionaries by wrapping them with list() or dict(), respectively.\n",
    "\n",
    "How is this useful?  Well, what if you had two related lists?  Say, a list of all codons and a string of all amino acids.  Combining these into a dictionary that shows their relationship could be very useful.  \n"
   ]
  },
  {
   "cell_type": "code",
   "execution_count": null,
   "metadata": {},
   "outputs": [],
   "source": [
    "codons = ['UUU', 'UUC', 'UUA', 'UUG', 'UCU', 'UCC', 'UCA', 'UCG', 'UAU', 'UAC', 'UAA', 'UAG', 'UGU', 'UGC', 'UGA', 'UGG', \n",
    "          'CUU', 'CUC', 'CUA', 'CUG', 'CCU', 'CCC', 'CCA', 'CCG', 'CAU', 'CAC', 'CAA', 'CAG', 'CGU', 'CGC', 'CGA', 'CGG', \n",
    "          'AUU', 'AUC', 'AUA', 'AUG', 'ACU', 'ACC', 'ACA', 'ACG', 'AAU', 'AAC', 'AAA', 'AAG', 'AGU', 'AGC', 'AGA', 'AGG', \n",
    "          'GUU', 'GUC', 'GUA', 'GUG', 'GCU', 'GCC', 'GCA', 'GCG', 'GAU', 'GAC', 'GAA', 'GAG', 'GGU', 'GGC', 'GGA', 'GGG']\n",
    "\n",
    "aminoacids = 'FFLLSSSSYY**CC*WLLLLPPPPHHQQRRRRIIIMTTTTNNKKSSRRVVVVAAAADDEEGGGG'\n",
    "\n",
    "#Both lists and strings are iterables. The order of the amind acids is the same as the order of the codons.\n",
    "#We can combine them into a single dictionary that shows their relationships using zip()\n",
    "\n",
    "codontable = zip(codons, aminoacids)\n",
    "#codontable is now an iterator\n",
    "#Let's turn it into a dictionary\n",
    "codontable = dict(codontable)\n",
    "\n",
    "print(codontable)\n",
    "\n",
    "iterable1 = ['A', 'B', 'C', 'D', 'E']\n",
    "iterable2 = 'XYZA'\n",
    "\n",
    "print(dict(zip(iterable2, iterable1)))\n",
    "\n",
    "a = zip(iterable1, iterable2)\n",
    "b = dict(a)\n",
    "print(b)"
   ]
  },
  {
   "cell_type": "markdown",
   "metadata": {},
   "source": [
    "## The map function\n",
    "\n",
    "The map function applies a function to every item of an iterable.  Yes, you could use a **for** loop for the same effect. "
   ]
  },
  {
   "cell_type": "code",
   "execution_count": null,
   "metadata": {},
   "outputs": [],
   "source": [
    "#Get the lengths of each of these oligos in this list\n",
    "\n",
    "oligos = ['CTGTACGATCGA', 'CTAGCTAG', 'TACGTAGCTAATTAACGACTG']\n",
    "\n",
    "#This will call the function len() on each item of the iterable and return an iterator of the results.\n",
    "oligolengths = map(len, oligos)\n",
    "#Turn it into a list\n",
    "oligolengths = list(oligolengths)\n",
    "print(oligolengths)\n",
    "\n",
    "\n",
    "#This is equivalent to the following loop\n",
    "oligolengths = []\n",
    "for oligo in oligos:\n",
    "    oligolengths.append(len(oligo))\n",
    "\n",
    "print(oligolengths)\n"
   ]
  },
  {
   "cell_type": "markdown",
   "metadata": {},
   "source": [
    "## Combinations\n",
    "\n",
    "Let's say you're a virologist so you care the immune response.  You did an RNAseq experiment before/after treating cells with some virus.  You saw that 100 genes were upregulated upon treatment.  15 of those were immune related.  Is that more than you would expect by chance?\n",
    "\n",
    "One way to do this would be to take a list of all genes (or, more correctly, all of those that were expressed in your sample) and get all possible combinations of 100 genes taken from that list.  Then you ask how many of those possible combinations have at least 15 immune-related genes.\n",
    "\n",
    "OK, so how do we get all possible combinations of 100 genes?  You could maybe imagine writing some for loop to come up with this.  However, this might be a little painful.  Thankfully, Python has a built-in function made to deal with such a case.  This function is called <font color = 'red'>combinations()</font> and it lives in the <font color = 'red'>itertools</font> package.\n",
    "\n",
    "Generally speaking, combinations are a choice of *n* items from a list (or any iterable) of *k* items.  The combinations() function takes two required arguments: an iterable (k) and an integer number of items to draw from it (n). Typing\n",
    "\n",
    "    combinations(k, n)\n",
    "    \n",
    "returns a \"combinations object\" that contains all possible groups of length n in the iterable k. It is easily turned into a list for inspection.\n",
    "\n",
    "    list(combinations(k, n))"
   ]
  },
  {
   "cell_type": "code",
   "execution_count": null,
   "metadata": {},
   "outputs": [],
   "source": [
    "#How many ways can you arrange people at a dinner party (perhaps a...final...dinner) into tables?\n",
    "\n",
    "guests = ['Peter', 'Andrew', 'James', 'John', 'Philip', 'Thaddeus', \n",
    "          'Bartholomew', 'OtherJames', 'Matthew', 'Simon', 'Judas']\n",
    "\n",
    "#4 guests per table\n",
    "\n",
    "#We have to import combinations from the itertools package\n",
    "from itertools import combinations as comb\n",
    "\n",
    "tables = comb(guests, 4)\n",
    "#tables is now a \"combinations object\" but we can turn it into a list\n",
    "tables = list(tables)\n",
    "nonconfusingtables = []\n",
    "for table in tables:\n",
    "    if 'James' in table and 'OtherJames' in table:\n",
    "        continue\n",
    "    else:\n",
    "        nonconfusingtables.append(table)\n",
    "        \n",
    "#print(tables)\n",
    "#Each table in tables is a 'tuple'. \n",
    "#We didn't cover what these are, but they are essentially equivalent to lists but they are *immutable*.\n",
    "print(len(tables))\n",
    "print(len(nonconfusingtables))"
   ]
  },
  {
   "cell_type": "markdown",
   "metadata": {},
   "source": [
    "## Permutations\n",
    "\n",
    "Permutations of an iterable are shuffles of its order.\n",
    "\n",
    "The itertools function <font color = 'red'>permutations()</font> will return a \"permutations object\", that just like the combinations object, can be easily turned into a list of all possible permutations of an iterable."
   ]
  },
  {
   "cell_type": "code",
   "execution_count": null,
   "metadata": {},
   "outputs": [],
   "source": [
    "from itertools import permutations as perm\n",
    "\n",
    "#How many different permutations are there of the sequence ATCGAT\n",
    "seq = 'ATCGAT'\n",
    "perms = perm(seq) #this is a permutations object\n",
    "#Turn it into a list\n",
    "perms = list(perms)\n",
    "#print(perms)\n",
    "print(len(perms))\n",
    "\n",
    "perms = set(perms)\n",
    "print(len(perms))"
   ]
  }
 ],
 "metadata": {
  "kernelspec": {
   "display_name": "Python 3",
   "language": "python",
   "name": "python3"
  },
  "language_info": {
   "codemirror_mode": {
    "name": "ipython",
    "version": 3
   },
   "file_extension": ".py",
   "mimetype": "text/x-python",
   "name": "python",
   "nbconvert_exporter": "python",
   "pygments_lexer": "ipython3",
   "version": "3.7.3"
  }
 },
 "nbformat": 4,
 "nbformat_minor": 2
}
